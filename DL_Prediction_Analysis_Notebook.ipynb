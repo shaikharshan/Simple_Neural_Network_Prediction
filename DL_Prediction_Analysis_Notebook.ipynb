{
  "nbformat": 4,
  "nbformat_minor": 0,
  "metadata": {
    "colab": {
      "provenance": []
    },
    "kernelspec": {
      "name": "python3",
      "display_name": "Python 3"
    },
    "language_info": {
      "name": "python"
    }
  },
  "cells": [
    {
      "cell_type": "markdown",
      "source": [
        "# Data Preprocessing"
      ],
      "metadata": {
        "id": "rnBfNvp5dHJE"
      }
    },
    {
      "cell_type": "code",
      "source": [
        "from google.colab import drive\n",
        "drive.mount('/content/drive')"
      ],
      "metadata": {
        "colab": {
          "base_uri": "https://localhost:8080/"
        },
        "id": "uuv5CTziMATX",
        "outputId": "b25c3cdb-386c-42a2-f2af-303e6631cfe8"
      },
      "execution_count": null,
      "outputs": [
        {
          "output_type": "stream",
          "name": "stdout",
          "text": [
            "Drive already mounted at /content/drive; to attempt to forcibly remount, call drive.mount(\"/content/drive\", force_remount=True).\n"
          ]
        }
      ]
    },
    {
      "cell_type": "code",
      "execution_count": null,
      "metadata": {
        "id": "tbw8ZOPuLyxd"
      },
      "outputs": [],
      "source": [
        "import pandas as pd\n",
        "import numpy as np\n",
        "import matplotlib.pyplot as plt\n",
        "import torch\n",
        "from sklearn.model_selection import train_test_split"
      ]
    },
    {
      "cell_type": "code",
      "source": [
        "train_data = pd.read_excel(\"/content/drive/MyDrive/Resolute_internship_Assignment/Task_1_2_ML/Task1and2_ML/train.xlsx\")\n",
        "test_data = pd.read_excel(\"/content/drive/MyDrive/Resolute_internship_Assignment/Task_1_2_ML/Task1and2_ML/test.xlsx\")"
      ],
      "metadata": {
        "id": "J-ORG_lNMbtF"
      },
      "execution_count": null,
      "outputs": []
    },
    {
      "cell_type": "code",
      "source": [
        "train_data.head()"
      ],
      "metadata": {
        "colab": {
          "base_uri": "https://localhost:8080/",
          "height": 206
        },
        "id": "Spe6fKTVMudW",
        "outputId": "adcf8797-9622-4a82-fef1-039af433a165"
      },
      "execution_count": null,
      "outputs": [
        {
          "output_type": "execute_result",
          "data": {
            "text/plain": [
              "   T1  T2  T3  T4  T5  T6  T7  T8  T9  T10  T11  T12  T13  T14  T15  T16  T17  \\\n",
              "0 -70 -61 -66 -53 -51 -63 -82 -57 -76  -78  -66  -66  -61  -59  -73  -75  -63   \n",
              "1 -77 -74 -71 -76 -65 -63 -66 -52 -55  -75  -72  -75  -74  -61  -64  -63  -53   \n",
              "2 -53 -38 -55 -66 -62 -62 -65 -70 -62  -52  -56  -53  -66  -68  -72  -60  -68   \n",
              "3 -72 -62 -59 -65 -65 -65 -78 -82 -83  -59  -84  -60  -64  -83  -69  -72  -95   \n",
              "4 -67 -69 -65 -63 -59 -53 -70 -72 -71  -60  -61  -57  -54  -76  -61  -66  -71   \n",
              "\n",
              "   T18 target  \n",
              "0  -77    B37  \n",
              "1  -63    B61  \n",
              "2  -77    A19  \n",
              "3  -73    A22  \n",
              "4  -80    A33  "
            ],
            "text/html": [
              "\n",
              "  <div id=\"df-6cb6d6dd-5631-4244-95d6-b98ac039c1ad\" class=\"colab-df-container\">\n",
              "    <div>\n",
              "<style scoped>\n",
              "    .dataframe tbody tr th:only-of-type {\n",
              "        vertical-align: middle;\n",
              "    }\n",
              "\n",
              "    .dataframe tbody tr th {\n",
              "        vertical-align: top;\n",
              "    }\n",
              "\n",
              "    .dataframe thead th {\n",
              "        text-align: right;\n",
              "    }\n",
              "</style>\n",
              "<table border=\"1\" class=\"dataframe\">\n",
              "  <thead>\n",
              "    <tr style=\"text-align: right;\">\n",
              "      <th></th>\n",
              "      <th>T1</th>\n",
              "      <th>T2</th>\n",
              "      <th>T3</th>\n",
              "      <th>T4</th>\n",
              "      <th>T5</th>\n",
              "      <th>T6</th>\n",
              "      <th>T7</th>\n",
              "      <th>T8</th>\n",
              "      <th>T9</th>\n",
              "      <th>T10</th>\n",
              "      <th>T11</th>\n",
              "      <th>T12</th>\n",
              "      <th>T13</th>\n",
              "      <th>T14</th>\n",
              "      <th>T15</th>\n",
              "      <th>T16</th>\n",
              "      <th>T17</th>\n",
              "      <th>T18</th>\n",
              "      <th>target</th>\n",
              "    </tr>\n",
              "  </thead>\n",
              "  <tbody>\n",
              "    <tr>\n",
              "      <th>0</th>\n",
              "      <td>-70</td>\n",
              "      <td>-61</td>\n",
              "      <td>-66</td>\n",
              "      <td>-53</td>\n",
              "      <td>-51</td>\n",
              "      <td>-63</td>\n",
              "      <td>-82</td>\n",
              "      <td>-57</td>\n",
              "      <td>-76</td>\n",
              "      <td>-78</td>\n",
              "      <td>-66</td>\n",
              "      <td>-66</td>\n",
              "      <td>-61</td>\n",
              "      <td>-59</td>\n",
              "      <td>-73</td>\n",
              "      <td>-75</td>\n",
              "      <td>-63</td>\n",
              "      <td>-77</td>\n",
              "      <td>B37</td>\n",
              "    </tr>\n",
              "    <tr>\n",
              "      <th>1</th>\n",
              "      <td>-77</td>\n",
              "      <td>-74</td>\n",
              "      <td>-71</td>\n",
              "      <td>-76</td>\n",
              "      <td>-65</td>\n",
              "      <td>-63</td>\n",
              "      <td>-66</td>\n",
              "      <td>-52</td>\n",
              "      <td>-55</td>\n",
              "      <td>-75</td>\n",
              "      <td>-72</td>\n",
              "      <td>-75</td>\n",
              "      <td>-74</td>\n",
              "      <td>-61</td>\n",
              "      <td>-64</td>\n",
              "      <td>-63</td>\n",
              "      <td>-53</td>\n",
              "      <td>-63</td>\n",
              "      <td>B61</td>\n",
              "    </tr>\n",
              "    <tr>\n",
              "      <th>2</th>\n",
              "      <td>-53</td>\n",
              "      <td>-38</td>\n",
              "      <td>-55</td>\n",
              "      <td>-66</td>\n",
              "      <td>-62</td>\n",
              "      <td>-62</td>\n",
              "      <td>-65</td>\n",
              "      <td>-70</td>\n",
              "      <td>-62</td>\n",
              "      <td>-52</td>\n",
              "      <td>-56</td>\n",
              "      <td>-53</td>\n",
              "      <td>-66</td>\n",
              "      <td>-68</td>\n",
              "      <td>-72</td>\n",
              "      <td>-60</td>\n",
              "      <td>-68</td>\n",
              "      <td>-77</td>\n",
              "      <td>A19</td>\n",
              "    </tr>\n",
              "    <tr>\n",
              "      <th>3</th>\n",
              "      <td>-72</td>\n",
              "      <td>-62</td>\n",
              "      <td>-59</td>\n",
              "      <td>-65</td>\n",
              "      <td>-65</td>\n",
              "      <td>-65</td>\n",
              "      <td>-78</td>\n",
              "      <td>-82</td>\n",
              "      <td>-83</td>\n",
              "      <td>-59</td>\n",
              "      <td>-84</td>\n",
              "      <td>-60</td>\n",
              "      <td>-64</td>\n",
              "      <td>-83</td>\n",
              "      <td>-69</td>\n",
              "      <td>-72</td>\n",
              "      <td>-95</td>\n",
              "      <td>-73</td>\n",
              "      <td>A22</td>\n",
              "    </tr>\n",
              "    <tr>\n",
              "      <th>4</th>\n",
              "      <td>-67</td>\n",
              "      <td>-69</td>\n",
              "      <td>-65</td>\n",
              "      <td>-63</td>\n",
              "      <td>-59</td>\n",
              "      <td>-53</td>\n",
              "      <td>-70</td>\n",
              "      <td>-72</td>\n",
              "      <td>-71</td>\n",
              "      <td>-60</td>\n",
              "      <td>-61</td>\n",
              "      <td>-57</td>\n",
              "      <td>-54</td>\n",
              "      <td>-76</td>\n",
              "      <td>-61</td>\n",
              "      <td>-66</td>\n",
              "      <td>-71</td>\n",
              "      <td>-80</td>\n",
              "      <td>A33</td>\n",
              "    </tr>\n",
              "  </tbody>\n",
              "</table>\n",
              "</div>\n",
              "    <div class=\"colab-df-buttons\">\n",
              "\n",
              "  <div class=\"colab-df-container\">\n",
              "    <button class=\"colab-df-convert\" onclick=\"convertToInteractive('df-6cb6d6dd-5631-4244-95d6-b98ac039c1ad')\"\n",
              "            title=\"Convert this dataframe to an interactive table.\"\n",
              "            style=\"display:none;\">\n",
              "\n",
              "  <svg xmlns=\"http://www.w3.org/2000/svg\" height=\"24px\" viewBox=\"0 -960 960 960\">\n",
              "    <path d=\"M120-120v-720h720v720H120Zm60-500h600v-160H180v160Zm220 220h160v-160H400v160Zm0 220h160v-160H400v160ZM180-400h160v-160H180v160Zm440 0h160v-160H620v160ZM180-180h160v-160H180v160Zm440 0h160v-160H620v160Z\"/>\n",
              "  </svg>\n",
              "    </button>\n",
              "\n",
              "  <style>\n",
              "    .colab-df-container {\n",
              "      display:flex;\n",
              "      gap: 12px;\n",
              "    }\n",
              "\n",
              "    .colab-df-convert {\n",
              "      background-color: #E8F0FE;\n",
              "      border: none;\n",
              "      border-radius: 50%;\n",
              "      cursor: pointer;\n",
              "      display: none;\n",
              "      fill: #1967D2;\n",
              "      height: 32px;\n",
              "      padding: 0 0 0 0;\n",
              "      width: 32px;\n",
              "    }\n",
              "\n",
              "    .colab-df-convert:hover {\n",
              "      background-color: #E2EBFA;\n",
              "      box-shadow: 0px 1px 2px rgba(60, 64, 67, 0.3), 0px 1px 3px 1px rgba(60, 64, 67, 0.15);\n",
              "      fill: #174EA6;\n",
              "    }\n",
              "\n",
              "    .colab-df-buttons div {\n",
              "      margin-bottom: 4px;\n",
              "    }\n",
              "\n",
              "    [theme=dark] .colab-df-convert {\n",
              "      background-color: #3B4455;\n",
              "      fill: #D2E3FC;\n",
              "    }\n",
              "\n",
              "    [theme=dark] .colab-df-convert:hover {\n",
              "      background-color: #434B5C;\n",
              "      box-shadow: 0px 1px 3px 1px rgba(0, 0, 0, 0.15);\n",
              "      filter: drop-shadow(0px 1px 2px rgba(0, 0, 0, 0.3));\n",
              "      fill: #FFFFFF;\n",
              "    }\n",
              "  </style>\n",
              "\n",
              "    <script>\n",
              "      const buttonEl =\n",
              "        document.querySelector('#df-6cb6d6dd-5631-4244-95d6-b98ac039c1ad button.colab-df-convert');\n",
              "      buttonEl.style.display =\n",
              "        google.colab.kernel.accessAllowed ? 'block' : 'none';\n",
              "\n",
              "      async function convertToInteractive(key) {\n",
              "        const element = document.querySelector('#df-6cb6d6dd-5631-4244-95d6-b98ac039c1ad');\n",
              "        const dataTable =\n",
              "          await google.colab.kernel.invokeFunction('convertToInteractive',\n",
              "                                                    [key], {});\n",
              "        if (!dataTable) return;\n",
              "\n",
              "        const docLinkHtml = 'Like what you see? Visit the ' +\n",
              "          '<a target=\"_blank\" href=https://colab.research.google.com/notebooks/data_table.ipynb>data table notebook</a>'\n",
              "          + ' to learn more about interactive tables.';\n",
              "        element.innerHTML = '';\n",
              "        dataTable['output_type'] = 'display_data';\n",
              "        await google.colab.output.renderOutput(dataTable, element);\n",
              "        const docLink = document.createElement('div');\n",
              "        docLink.innerHTML = docLinkHtml;\n",
              "        element.appendChild(docLink);\n",
              "      }\n",
              "    </script>\n",
              "  </div>\n",
              "\n",
              "\n",
              "<div id=\"df-5f47f851-1717-4eb3-974c-d23dfbbeb331\">\n",
              "  <button class=\"colab-df-quickchart\" onclick=\"quickchart('df-5f47f851-1717-4eb3-974c-d23dfbbeb331')\"\n",
              "            title=\"Suggest charts\"\n",
              "            style=\"display:none;\">\n",
              "\n",
              "<svg xmlns=\"http://www.w3.org/2000/svg\" height=\"24px\"viewBox=\"0 0 24 24\"\n",
              "     width=\"24px\">\n",
              "    <g>\n",
              "        <path d=\"M19 3H5c-1.1 0-2 .9-2 2v14c0 1.1.9 2 2 2h14c1.1 0 2-.9 2-2V5c0-1.1-.9-2-2-2zM9 17H7v-7h2v7zm4 0h-2V7h2v10zm4 0h-2v-4h2v4z\"/>\n",
              "    </g>\n",
              "</svg>\n",
              "  </button>\n",
              "\n",
              "<style>\n",
              "  .colab-df-quickchart {\n",
              "      --bg-color: #E8F0FE;\n",
              "      --fill-color: #1967D2;\n",
              "      --hover-bg-color: #E2EBFA;\n",
              "      --hover-fill-color: #174EA6;\n",
              "      --disabled-fill-color: #AAA;\n",
              "      --disabled-bg-color: #DDD;\n",
              "  }\n",
              "\n",
              "  [theme=dark] .colab-df-quickchart {\n",
              "      --bg-color: #3B4455;\n",
              "      --fill-color: #D2E3FC;\n",
              "      --hover-bg-color: #434B5C;\n",
              "      --hover-fill-color: #FFFFFF;\n",
              "      --disabled-bg-color: #3B4455;\n",
              "      --disabled-fill-color: #666;\n",
              "  }\n",
              "\n",
              "  .colab-df-quickchart {\n",
              "    background-color: var(--bg-color);\n",
              "    border: none;\n",
              "    border-radius: 50%;\n",
              "    cursor: pointer;\n",
              "    display: none;\n",
              "    fill: var(--fill-color);\n",
              "    height: 32px;\n",
              "    padding: 0;\n",
              "    width: 32px;\n",
              "  }\n",
              "\n",
              "  .colab-df-quickchart:hover {\n",
              "    background-color: var(--hover-bg-color);\n",
              "    box-shadow: 0 1px 2px rgba(60, 64, 67, 0.3), 0 1px 3px 1px rgba(60, 64, 67, 0.15);\n",
              "    fill: var(--button-hover-fill-color);\n",
              "  }\n",
              "\n",
              "  .colab-df-quickchart-complete:disabled,\n",
              "  .colab-df-quickchart-complete:disabled:hover {\n",
              "    background-color: var(--disabled-bg-color);\n",
              "    fill: var(--disabled-fill-color);\n",
              "    box-shadow: none;\n",
              "  }\n",
              "\n",
              "  .colab-df-spinner {\n",
              "    border: 2px solid var(--fill-color);\n",
              "    border-color: transparent;\n",
              "    border-bottom-color: var(--fill-color);\n",
              "    animation:\n",
              "      spin 1s steps(1) infinite;\n",
              "  }\n",
              "\n",
              "  @keyframes spin {\n",
              "    0% {\n",
              "      border-color: transparent;\n",
              "      border-bottom-color: var(--fill-color);\n",
              "      border-left-color: var(--fill-color);\n",
              "    }\n",
              "    20% {\n",
              "      border-color: transparent;\n",
              "      border-left-color: var(--fill-color);\n",
              "      border-top-color: var(--fill-color);\n",
              "    }\n",
              "    30% {\n",
              "      border-color: transparent;\n",
              "      border-left-color: var(--fill-color);\n",
              "      border-top-color: var(--fill-color);\n",
              "      border-right-color: var(--fill-color);\n",
              "    }\n",
              "    40% {\n",
              "      border-color: transparent;\n",
              "      border-right-color: var(--fill-color);\n",
              "      border-top-color: var(--fill-color);\n",
              "    }\n",
              "    60% {\n",
              "      border-color: transparent;\n",
              "      border-right-color: var(--fill-color);\n",
              "    }\n",
              "    80% {\n",
              "      border-color: transparent;\n",
              "      border-right-color: var(--fill-color);\n",
              "      border-bottom-color: var(--fill-color);\n",
              "    }\n",
              "    90% {\n",
              "      border-color: transparent;\n",
              "      border-bottom-color: var(--fill-color);\n",
              "    }\n",
              "  }\n",
              "</style>\n",
              "\n",
              "  <script>\n",
              "    async function quickchart(key) {\n",
              "      const quickchartButtonEl =\n",
              "        document.querySelector('#' + key + ' button');\n",
              "      quickchartButtonEl.disabled = true;  // To prevent multiple clicks.\n",
              "      quickchartButtonEl.classList.add('colab-df-spinner');\n",
              "      try {\n",
              "        const charts = await google.colab.kernel.invokeFunction(\n",
              "            'suggestCharts', [key], {});\n",
              "      } catch (error) {\n",
              "        console.error('Error during call to suggestCharts:', error);\n",
              "      }\n",
              "      quickchartButtonEl.classList.remove('colab-df-spinner');\n",
              "      quickchartButtonEl.classList.add('colab-df-quickchart-complete');\n",
              "    }\n",
              "    (() => {\n",
              "      let quickchartButtonEl =\n",
              "        document.querySelector('#df-5f47f851-1717-4eb3-974c-d23dfbbeb331 button');\n",
              "      quickchartButtonEl.style.display =\n",
              "        google.colab.kernel.accessAllowed ? 'block' : 'none';\n",
              "    })();\n",
              "  </script>\n",
              "</div>\n",
              "    </div>\n",
              "  </div>\n"
            ],
            "application/vnd.google.colaboratory.intrinsic+json": {
              "type": "dataframe",
              "variable_name": "train_data",
              "summary": "{\n  \"name\": \"train_data\",\n  \"rows\": 36752,\n  \"fields\": [\n    {\n      \"column\": \"T1\",\n      \"properties\": {\n        \"dtype\": \"number\",\n        \"std\": 8,\n        \"min\": -95,\n        \"max\": -41,\n        \"num_unique_values\": 49,\n        \"samples\": [\n          -81,\n          -45,\n          -44\n        ],\n        \"semantic_type\": \"\",\n        \"description\": \"\"\n      }\n    },\n    {\n      \"column\": \"T2\",\n      \"properties\": {\n        \"dtype\": \"number\",\n        \"std\": 8,\n        \"min\": -95,\n        \"max\": -37,\n        \"num_unique_values\": 53,\n        \"samples\": [\n          -86,\n          -77,\n          -43\n        ],\n        \"semantic_type\": \"\",\n        \"description\": \"\"\n      }\n    },\n    {\n      \"column\": \"T3\",\n      \"properties\": {\n        \"dtype\": \"number\",\n        \"std\": 8,\n        \"min\": -95,\n        \"max\": -41,\n        \"num_unique_values\": 47,\n        \"samples\": [\n          -52,\n          -82,\n          -75\n        ],\n        \"semantic_type\": \"\",\n        \"description\": \"\"\n      }\n    },\n    {\n      \"column\": \"T4\",\n      \"properties\": {\n        \"dtype\": \"number\",\n        \"std\": 8,\n        \"min\": -95,\n        \"max\": -39,\n        \"num_unique_values\": 50,\n        \"samples\": [\n          -48,\n          -81,\n          -44\n        ],\n        \"semantic_type\": \"\",\n        \"description\": \"\"\n      }\n    },\n    {\n      \"column\": \"T5\",\n      \"properties\": {\n        \"dtype\": \"number\",\n        \"std\": 8,\n        \"min\": -95,\n        \"max\": -36,\n        \"num_unique_values\": 50,\n        \"samples\": [\n          -63,\n          -38,\n          -71\n        ],\n        \"semantic_type\": \"\",\n        \"description\": \"\"\n      }\n    },\n    {\n      \"column\": \"T6\",\n      \"properties\": {\n        \"dtype\": \"number\",\n        \"std\": 8,\n        \"min\": -95,\n        \"max\": -39,\n        \"num_unique_values\": 50,\n        \"samples\": [\n          -70,\n          -84,\n          -60\n        ],\n        \"semantic_type\": \"\",\n        \"description\": \"\"\n      }\n    },\n    {\n      \"column\": \"T7\",\n      \"properties\": {\n        \"dtype\": \"number\",\n        \"std\": 9,\n        \"min\": -95,\n        \"max\": -45,\n        \"num_unique_values\": 44,\n        \"samples\": [\n          -69,\n          -53,\n          -95\n        ],\n        \"semantic_type\": \"\",\n        \"description\": \"\"\n      }\n    },\n    {\n      \"column\": \"T8\",\n      \"properties\": {\n        \"dtype\": \"number\",\n        \"std\": 10,\n        \"min\": -95,\n        \"max\": -39,\n        \"num_unique_values\": 51,\n        \"samples\": [\n          -85,\n          -86,\n          -42\n        ],\n        \"semantic_type\": \"\",\n        \"description\": \"\"\n      }\n    },\n    {\n      \"column\": \"T9\",\n      \"properties\": {\n        \"dtype\": \"number\",\n        \"std\": 10,\n        \"min\": -95,\n        \"max\": -39,\n        \"num_unique_values\": 50,\n        \"samples\": [\n          -84,\n          -81,\n          -51\n        ],\n        \"semantic_type\": \"\",\n        \"description\": \"\"\n      }\n    },\n    {\n      \"column\": \"T10\",\n      \"properties\": {\n        \"dtype\": \"number\",\n        \"std\": 10,\n        \"min\": -95,\n        \"max\": -37,\n        \"num_unique_values\": 49,\n        \"samples\": [\n          -95,\n          -46,\n          -40\n        ],\n        \"semantic_type\": \"\",\n        \"description\": \"\"\n      }\n    },\n    {\n      \"column\": \"T11\",\n      \"properties\": {\n        \"dtype\": \"number\",\n        \"std\": 9,\n        \"min\": -95,\n        \"max\": -40,\n        \"num_unique_values\": 50,\n        \"samples\": [\n          -85,\n          -49,\n          -57\n        ],\n        \"semantic_type\": \"\",\n        \"description\": \"\"\n      }\n    },\n    {\n      \"column\": \"T12\",\n      \"properties\": {\n        \"dtype\": \"number\",\n        \"std\": 8,\n        \"min\": -95,\n        \"max\": -43,\n        \"num_unique_values\": 45,\n        \"samples\": [\n          -84,\n          -55,\n          -71\n        ],\n        \"semantic_type\": \"\",\n        \"description\": \"\"\n      }\n    },\n    {\n      \"column\": \"T13\",\n      \"properties\": {\n        \"dtype\": \"number\",\n        \"std\": 8,\n        \"min\": -95,\n        \"max\": -43,\n        \"num_unique_values\": 47,\n        \"samples\": [\n          -95,\n          -82,\n          -62\n        ],\n        \"semantic_type\": \"\",\n        \"description\": \"\"\n      }\n    },\n    {\n      \"column\": \"T14\",\n      \"properties\": {\n        \"dtype\": \"number\",\n        \"std\": 9,\n        \"min\": -95,\n        \"max\": -39,\n        \"num_unique_values\": 48,\n        \"samples\": [\n          -48,\n          -39,\n          -67\n        ],\n        \"semantic_type\": \"\",\n        \"description\": \"\"\n      }\n    },\n    {\n      \"column\": \"T15\",\n      \"properties\": {\n        \"dtype\": \"number\",\n        \"std\": 9,\n        \"min\": -95,\n        \"max\": -38,\n        \"num_unique_values\": 54,\n        \"samples\": [\n          -50,\n          -41,\n          -90\n        ],\n        \"semantic_type\": \"\",\n        \"description\": \"\"\n      }\n    },\n    {\n      \"column\": \"T16\",\n      \"properties\": {\n        \"dtype\": \"number\",\n        \"std\": 10,\n        \"min\": -95,\n        \"max\": -40,\n        \"num_unique_values\": 50,\n        \"samples\": [\n          -74,\n          -46,\n          -73\n        ],\n        \"semantic_type\": \"\",\n        \"description\": \"\"\n      }\n    },\n    {\n      \"column\": \"T17\",\n      \"properties\": {\n        \"dtype\": \"number\",\n        \"std\": 10,\n        \"min\": -95,\n        \"max\": -43,\n        \"num_unique_values\": 47,\n        \"samples\": [\n          -56,\n          -52,\n          -86\n        ],\n        \"semantic_type\": \"\",\n        \"description\": \"\"\n      }\n    },\n    {\n      \"column\": \"T18\",\n      \"properties\": {\n        \"dtype\": \"number\",\n        \"std\": 10,\n        \"min\": -95,\n        \"max\": -39,\n        \"num_unique_values\": 48,\n        \"samples\": [\n          -69,\n          -45,\n          -61\n        ],\n        \"semantic_type\": \"\",\n        \"description\": \"\"\n      }\n    },\n    {\n      \"column\": \"target\",\n      \"properties\": {\n        \"dtype\": \"category\",\n        \"num_unique_values\": 160,\n        \"samples\": [\n          \"B47\",\n          \"B35\",\n          \"A45\"\n        ],\n        \"semantic_type\": \"\",\n        \"description\": \"\"\n      }\n    }\n  ]\n}"
            }
          },
          "metadata": {},
          "execution_count": 5
        }
      ]
    },
    {
      "cell_type": "code",
      "source": [
        "classes = pd.unique(train_data.iloc[:,-1])"
      ],
      "metadata": {
        "id": "CDrqHA-SRlm8"
      },
      "execution_count": null,
      "outputs": []
    },
    {
      "cell_type": "code",
      "source": [
        "classes"
      ],
      "metadata": {
        "colab": {
          "base_uri": "https://localhost:8080/"
        },
        "id": "75gyt39TSyLm",
        "outputId": "85a929f4-48ea-414b-e9d9-753e70e1cbea"
      },
      "execution_count": null,
      "outputs": [
        {
          "output_type": "execute_result",
          "data": {
            "text/plain": [
              "array(['B37', 'B61', 'A19', 'A22', 'A33', 'A75', 'A41', 'B14', 'B80',\n",
              "       'B64', 'A1', 'B21', 'A70', 'B57', 'B9', 'B50', 'B31', 'A21', 'B30',\n",
              "       'A4', 'B40', 'B6', 'A64', 'A25', 'B18', 'A66', 'A53', 'B73', 'A50',\n",
              "       'B25', 'A29', 'A35', 'A3', 'A46', 'B45', 'A36', 'B5', 'A79', 'A32',\n",
              "       'B23', 'A7', 'A62', 'A71', 'A58', 'A9', 'B63', 'B51', 'B8', 'B36',\n",
              "       'A14', 'A15', 'A24', 'B38', 'A10', 'B4', 'A37', 'A12', 'B41',\n",
              "       'A17', 'B49', 'B71', 'B59', 'B39', 'B29', 'A76', 'B58', 'B28',\n",
              "       'A77', 'A67', 'B24', 'A31', 'A34', 'A5', 'B34', 'A11', 'B16',\n",
              "       'B20', 'A63', 'B53', 'A73', 'A44', 'A69', 'A56', 'A54', 'A55',\n",
              "       'B11', 'A42', 'B22', 'B67', 'A74', 'A57', 'A8', 'B46', 'B15',\n",
              "       'A51', 'A40', 'A59', 'A72', 'B32', 'A2', 'A13', 'B17', 'A65',\n",
              "       'A52', 'A47', 'B47', 'B77', 'B3', 'B35', 'B44', 'A80', 'B43',\n",
              "       'B54', 'B75', 'A49', 'B52', 'B33', 'B2', 'B1', 'A39', 'B7', 'A20',\n",
              "       'A18', 'B12', 'A27', 'A6', 'A68', 'B72', 'B66', 'B69', 'A26',\n",
              "       'A78', 'A60', 'A16', 'B19', 'B62', 'B27', 'B68', 'B76', 'B65',\n",
              "       'B55', 'A45', 'A30', 'A23', 'B42', 'A38', 'B10', 'A48', 'B70',\n",
              "       'A43', 'B74', 'B13', 'B56', 'B48', 'B60', 'B79', 'B78', 'A28',\n",
              "       'B26', 'A61'], dtype=object)"
            ]
          },
          "metadata": {},
          "execution_count": 8
        }
      ]
    },
    {
      "cell_type": "code",
      "source": [
        "classes.size"
      ],
      "metadata": {
        "colab": {
          "base_uri": "https://localhost:8080/"
        },
        "id": "zpIx_k2lSyNx",
        "outputId": "3e892233-f2ec-448d-bf1e-ba05ae590b4c"
      },
      "execution_count": null,
      "outputs": [
        {
          "output_type": "execute_result",
          "data": {
            "text/plain": [
              "160"
            ]
          },
          "metadata": {},
          "execution_count": 9
        }
      ]
    },
    {
      "cell_type": "markdown",
      "source": [
        "There are 160 different classes"
      ],
      "metadata": {
        "id": "WymoBlbaVUrj"
      }
    },
    {
      "cell_type": "code",
      "source": [
        "X_train = train_data.iloc[: , :-1].values\n",
        "y_train = train_data.iloc[: ,-1].values\n"
      ],
      "metadata": {
        "id": "4quFaOwSO6rw"
      },
      "execution_count": null,
      "outputs": []
    },
    {
      "cell_type": "code",
      "source": [
        "X_train"
      ],
      "metadata": {
        "colab": {
          "base_uri": "https://localhost:8080/"
        },
        "id": "rvf8zI85Pit0",
        "outputId": "626c310b-ad5b-4525-afc9-ded56f91c1af"
      },
      "execution_count": null,
      "outputs": [
        {
          "output_type": "execute_result",
          "data": {
            "text/plain": [
              "array([[-70, -61, -66, ..., -75, -63, -77],\n",
              "       [-77, -74, -71, ..., -63, -53, -63],\n",
              "       [-53, -38, -55, ..., -60, -68, -77],\n",
              "       ...,\n",
              "       [-42, -58, -72, ..., -70, -75, -74],\n",
              "       [-50, -50, -70, ..., -74, -72, -81],\n",
              "       [-66, -64, -70, ..., -61, -67, -65]])"
            ]
          },
          "metadata": {},
          "execution_count": 11
        }
      ]
    },
    {
      "cell_type": "code",
      "source": [
        "test_data"
      ],
      "metadata": {
        "colab": {
          "base_uri": "https://localhost:8080/",
          "height": 423
        },
        "id": "YNsPgFXBd55O",
        "outputId": "f1217ec6-4fe6-4ae5-83d1-5c877bfb647b"
      },
      "execution_count": null,
      "outputs": [
        {
          "output_type": "execute_result",
          "data": {
            "text/plain": [
              "       T1  T2  T3  T4  T5  T6  T7  T8  T9  T10  T11  T12  T13  T14  T15  T16  \\\n",
              "0     -76 -83 -70 -66 -64 -72 -64 -69 -60  -76  -83  -78  -81  -81  -81  -70   \n",
              "1     -58 -57 -78 -81 -73 -73 -78 -78 -82  -49  -55  -58  -66  -79  -72  -83   \n",
              "2     -70 -70 -71 -69 -69 -68 -61 -55 -53  -82  -87  -76  -68  -57  -64  -75   \n",
              "3     -71 -61 -56 -56 -61 -60 -68 -66 -72  -58  -55  -56  -58  -62  -61  -59   \n",
              "4     -72 -71 -64 -69 -64 -63 -61 -42 -55  -61  -69  -67  -63  -63  -55  -49   \n",
              "...    ..  ..  ..  ..  ..  ..  ..  ..  ..  ...  ...  ...  ...  ...  ...  ...   \n",
              "15747 -64 -68 -64 -67 -66 -53 -61 -51 -44  -76  -64  -62  -68  -60  -58  -54   \n",
              "15748 -57 -46 -64 -55 -56 -54 -70 -64 -63  -51  -56  -58  -60  -61  -61  -62   \n",
              "15749 -76 -67 -69 -71 -68 -70 -57 -57 -59  -76  -85  -72  -67  -58  -66  -66   \n",
              "15750 -69 -78 -65 -65 -38 -55 -66 -66 -76  -64  -64  -66  -55  -60  -55  -64   \n",
              "15751 -74 -68 -70 -80 -66 -61 -68 -62 -49  -79  -82  -71  -68  -74  -61  -57   \n",
              "\n",
              "       T17  T18  \n",
              "0      -60  -60  \n",
              "1      -74  -80  \n",
              "2      -57  -70  \n",
              "3      -64  -65  \n",
              "4      -49  -57  \n",
              "...    ...  ...  \n",
              "15747  -48  -51  \n",
              "15748  -62  -64  \n",
              "15749  -55  -54  \n",
              "15750  -66  -69  \n",
              "15751  -52  -56  \n",
              "\n",
              "[15752 rows x 18 columns]"
            ],
            "text/html": [
              "\n",
              "  <div id=\"df-87a20b22-3082-4bbd-a6e6-ba4fd835421c\" class=\"colab-df-container\">\n",
              "    <div>\n",
              "<style scoped>\n",
              "    .dataframe tbody tr th:only-of-type {\n",
              "        vertical-align: middle;\n",
              "    }\n",
              "\n",
              "    .dataframe tbody tr th {\n",
              "        vertical-align: top;\n",
              "    }\n",
              "\n",
              "    .dataframe thead th {\n",
              "        text-align: right;\n",
              "    }\n",
              "</style>\n",
              "<table border=\"1\" class=\"dataframe\">\n",
              "  <thead>\n",
              "    <tr style=\"text-align: right;\">\n",
              "      <th></th>\n",
              "      <th>T1</th>\n",
              "      <th>T2</th>\n",
              "      <th>T3</th>\n",
              "      <th>T4</th>\n",
              "      <th>T5</th>\n",
              "      <th>T6</th>\n",
              "      <th>T7</th>\n",
              "      <th>T8</th>\n",
              "      <th>T9</th>\n",
              "      <th>T10</th>\n",
              "      <th>T11</th>\n",
              "      <th>T12</th>\n",
              "      <th>T13</th>\n",
              "      <th>T14</th>\n",
              "      <th>T15</th>\n",
              "      <th>T16</th>\n",
              "      <th>T17</th>\n",
              "      <th>T18</th>\n",
              "    </tr>\n",
              "  </thead>\n",
              "  <tbody>\n",
              "    <tr>\n",
              "      <th>0</th>\n",
              "      <td>-76</td>\n",
              "      <td>-83</td>\n",
              "      <td>-70</td>\n",
              "      <td>-66</td>\n",
              "      <td>-64</td>\n",
              "      <td>-72</td>\n",
              "      <td>-64</td>\n",
              "      <td>-69</td>\n",
              "      <td>-60</td>\n",
              "      <td>-76</td>\n",
              "      <td>-83</td>\n",
              "      <td>-78</td>\n",
              "      <td>-81</td>\n",
              "      <td>-81</td>\n",
              "      <td>-81</td>\n",
              "      <td>-70</td>\n",
              "      <td>-60</td>\n",
              "      <td>-60</td>\n",
              "    </tr>\n",
              "    <tr>\n",
              "      <th>1</th>\n",
              "      <td>-58</td>\n",
              "      <td>-57</td>\n",
              "      <td>-78</td>\n",
              "      <td>-81</td>\n",
              "      <td>-73</td>\n",
              "      <td>-73</td>\n",
              "      <td>-78</td>\n",
              "      <td>-78</td>\n",
              "      <td>-82</td>\n",
              "      <td>-49</td>\n",
              "      <td>-55</td>\n",
              "      <td>-58</td>\n",
              "      <td>-66</td>\n",
              "      <td>-79</td>\n",
              "      <td>-72</td>\n",
              "      <td>-83</td>\n",
              "      <td>-74</td>\n",
              "      <td>-80</td>\n",
              "    </tr>\n",
              "    <tr>\n",
              "      <th>2</th>\n",
              "      <td>-70</td>\n",
              "      <td>-70</td>\n",
              "      <td>-71</td>\n",
              "      <td>-69</td>\n",
              "      <td>-69</td>\n",
              "      <td>-68</td>\n",
              "      <td>-61</td>\n",
              "      <td>-55</td>\n",
              "      <td>-53</td>\n",
              "      <td>-82</td>\n",
              "      <td>-87</td>\n",
              "      <td>-76</td>\n",
              "      <td>-68</td>\n",
              "      <td>-57</td>\n",
              "      <td>-64</td>\n",
              "      <td>-75</td>\n",
              "      <td>-57</td>\n",
              "      <td>-70</td>\n",
              "    </tr>\n",
              "    <tr>\n",
              "      <th>3</th>\n",
              "      <td>-71</td>\n",
              "      <td>-61</td>\n",
              "      <td>-56</td>\n",
              "      <td>-56</td>\n",
              "      <td>-61</td>\n",
              "      <td>-60</td>\n",
              "      <td>-68</td>\n",
              "      <td>-66</td>\n",
              "      <td>-72</td>\n",
              "      <td>-58</td>\n",
              "      <td>-55</td>\n",
              "      <td>-56</td>\n",
              "      <td>-58</td>\n",
              "      <td>-62</td>\n",
              "      <td>-61</td>\n",
              "      <td>-59</td>\n",
              "      <td>-64</td>\n",
              "      <td>-65</td>\n",
              "    </tr>\n",
              "    <tr>\n",
              "      <th>4</th>\n",
              "      <td>-72</td>\n",
              "      <td>-71</td>\n",
              "      <td>-64</td>\n",
              "      <td>-69</td>\n",
              "      <td>-64</td>\n",
              "      <td>-63</td>\n",
              "      <td>-61</td>\n",
              "      <td>-42</td>\n",
              "      <td>-55</td>\n",
              "      <td>-61</td>\n",
              "      <td>-69</td>\n",
              "      <td>-67</td>\n",
              "      <td>-63</td>\n",
              "      <td>-63</td>\n",
              "      <td>-55</td>\n",
              "      <td>-49</td>\n",
              "      <td>-49</td>\n",
              "      <td>-57</td>\n",
              "    </tr>\n",
              "    <tr>\n",
              "      <th>...</th>\n",
              "      <td>...</td>\n",
              "      <td>...</td>\n",
              "      <td>...</td>\n",
              "      <td>...</td>\n",
              "      <td>...</td>\n",
              "      <td>...</td>\n",
              "      <td>...</td>\n",
              "      <td>...</td>\n",
              "      <td>...</td>\n",
              "      <td>...</td>\n",
              "      <td>...</td>\n",
              "      <td>...</td>\n",
              "      <td>...</td>\n",
              "      <td>...</td>\n",
              "      <td>...</td>\n",
              "      <td>...</td>\n",
              "      <td>...</td>\n",
              "      <td>...</td>\n",
              "    </tr>\n",
              "    <tr>\n",
              "      <th>15747</th>\n",
              "      <td>-64</td>\n",
              "      <td>-68</td>\n",
              "      <td>-64</td>\n",
              "      <td>-67</td>\n",
              "      <td>-66</td>\n",
              "      <td>-53</td>\n",
              "      <td>-61</td>\n",
              "      <td>-51</td>\n",
              "      <td>-44</td>\n",
              "      <td>-76</td>\n",
              "      <td>-64</td>\n",
              "      <td>-62</td>\n",
              "      <td>-68</td>\n",
              "      <td>-60</td>\n",
              "      <td>-58</td>\n",
              "      <td>-54</td>\n",
              "      <td>-48</td>\n",
              "      <td>-51</td>\n",
              "    </tr>\n",
              "    <tr>\n",
              "      <th>15748</th>\n",
              "      <td>-57</td>\n",
              "      <td>-46</td>\n",
              "      <td>-64</td>\n",
              "      <td>-55</td>\n",
              "      <td>-56</td>\n",
              "      <td>-54</td>\n",
              "      <td>-70</td>\n",
              "      <td>-64</td>\n",
              "      <td>-63</td>\n",
              "      <td>-51</td>\n",
              "      <td>-56</td>\n",
              "      <td>-58</td>\n",
              "      <td>-60</td>\n",
              "      <td>-61</td>\n",
              "      <td>-61</td>\n",
              "      <td>-62</td>\n",
              "      <td>-62</td>\n",
              "      <td>-64</td>\n",
              "    </tr>\n",
              "    <tr>\n",
              "      <th>15749</th>\n",
              "      <td>-76</td>\n",
              "      <td>-67</td>\n",
              "      <td>-69</td>\n",
              "      <td>-71</td>\n",
              "      <td>-68</td>\n",
              "      <td>-70</td>\n",
              "      <td>-57</td>\n",
              "      <td>-57</td>\n",
              "      <td>-59</td>\n",
              "      <td>-76</td>\n",
              "      <td>-85</td>\n",
              "      <td>-72</td>\n",
              "      <td>-67</td>\n",
              "      <td>-58</td>\n",
              "      <td>-66</td>\n",
              "      <td>-66</td>\n",
              "      <td>-55</td>\n",
              "      <td>-54</td>\n",
              "    </tr>\n",
              "    <tr>\n",
              "      <th>15750</th>\n",
              "      <td>-69</td>\n",
              "      <td>-78</td>\n",
              "      <td>-65</td>\n",
              "      <td>-65</td>\n",
              "      <td>-38</td>\n",
              "      <td>-55</td>\n",
              "      <td>-66</td>\n",
              "      <td>-66</td>\n",
              "      <td>-76</td>\n",
              "      <td>-64</td>\n",
              "      <td>-64</td>\n",
              "      <td>-66</td>\n",
              "      <td>-55</td>\n",
              "      <td>-60</td>\n",
              "      <td>-55</td>\n",
              "      <td>-64</td>\n",
              "      <td>-66</td>\n",
              "      <td>-69</td>\n",
              "    </tr>\n",
              "    <tr>\n",
              "      <th>15751</th>\n",
              "      <td>-74</td>\n",
              "      <td>-68</td>\n",
              "      <td>-70</td>\n",
              "      <td>-80</td>\n",
              "      <td>-66</td>\n",
              "      <td>-61</td>\n",
              "      <td>-68</td>\n",
              "      <td>-62</td>\n",
              "      <td>-49</td>\n",
              "      <td>-79</td>\n",
              "      <td>-82</td>\n",
              "      <td>-71</td>\n",
              "      <td>-68</td>\n",
              "      <td>-74</td>\n",
              "      <td>-61</td>\n",
              "      <td>-57</td>\n",
              "      <td>-52</td>\n",
              "      <td>-56</td>\n",
              "    </tr>\n",
              "  </tbody>\n",
              "</table>\n",
              "<p>15752 rows × 18 columns</p>\n",
              "</div>\n",
              "    <div class=\"colab-df-buttons\">\n",
              "\n",
              "  <div class=\"colab-df-container\">\n",
              "    <button class=\"colab-df-convert\" onclick=\"convertToInteractive('df-87a20b22-3082-4bbd-a6e6-ba4fd835421c')\"\n",
              "            title=\"Convert this dataframe to an interactive table.\"\n",
              "            style=\"display:none;\">\n",
              "\n",
              "  <svg xmlns=\"http://www.w3.org/2000/svg\" height=\"24px\" viewBox=\"0 -960 960 960\">\n",
              "    <path d=\"M120-120v-720h720v720H120Zm60-500h600v-160H180v160Zm220 220h160v-160H400v160Zm0 220h160v-160H400v160ZM180-400h160v-160H180v160Zm440 0h160v-160H620v160ZM180-180h160v-160H180v160Zm440 0h160v-160H620v160Z\"/>\n",
              "  </svg>\n",
              "    </button>\n",
              "\n",
              "  <style>\n",
              "    .colab-df-container {\n",
              "      display:flex;\n",
              "      gap: 12px;\n",
              "    }\n",
              "\n",
              "    .colab-df-convert {\n",
              "      background-color: #E8F0FE;\n",
              "      border: none;\n",
              "      border-radius: 50%;\n",
              "      cursor: pointer;\n",
              "      display: none;\n",
              "      fill: #1967D2;\n",
              "      height: 32px;\n",
              "      padding: 0 0 0 0;\n",
              "      width: 32px;\n",
              "    }\n",
              "\n",
              "    .colab-df-convert:hover {\n",
              "      background-color: #E2EBFA;\n",
              "      box-shadow: 0px 1px 2px rgba(60, 64, 67, 0.3), 0px 1px 3px 1px rgba(60, 64, 67, 0.15);\n",
              "      fill: #174EA6;\n",
              "    }\n",
              "\n",
              "    .colab-df-buttons div {\n",
              "      margin-bottom: 4px;\n",
              "    }\n",
              "\n",
              "    [theme=dark] .colab-df-convert {\n",
              "      background-color: #3B4455;\n",
              "      fill: #D2E3FC;\n",
              "    }\n",
              "\n",
              "    [theme=dark] .colab-df-convert:hover {\n",
              "      background-color: #434B5C;\n",
              "      box-shadow: 0px 1px 3px 1px rgba(0, 0, 0, 0.15);\n",
              "      filter: drop-shadow(0px 1px 2px rgba(0, 0, 0, 0.3));\n",
              "      fill: #FFFFFF;\n",
              "    }\n",
              "  </style>\n",
              "\n",
              "    <script>\n",
              "      const buttonEl =\n",
              "        document.querySelector('#df-87a20b22-3082-4bbd-a6e6-ba4fd835421c button.colab-df-convert');\n",
              "      buttonEl.style.display =\n",
              "        google.colab.kernel.accessAllowed ? 'block' : 'none';\n",
              "\n",
              "      async function convertToInteractive(key) {\n",
              "        const element = document.querySelector('#df-87a20b22-3082-4bbd-a6e6-ba4fd835421c');\n",
              "        const dataTable =\n",
              "          await google.colab.kernel.invokeFunction('convertToInteractive',\n",
              "                                                    [key], {});\n",
              "        if (!dataTable) return;\n",
              "\n",
              "        const docLinkHtml = 'Like what you see? Visit the ' +\n",
              "          '<a target=\"_blank\" href=https://colab.research.google.com/notebooks/data_table.ipynb>data table notebook</a>'\n",
              "          + ' to learn more about interactive tables.';\n",
              "        element.innerHTML = '';\n",
              "        dataTable['output_type'] = 'display_data';\n",
              "        await google.colab.output.renderOutput(dataTable, element);\n",
              "        const docLink = document.createElement('div');\n",
              "        docLink.innerHTML = docLinkHtml;\n",
              "        element.appendChild(docLink);\n",
              "      }\n",
              "    </script>\n",
              "  </div>\n",
              "\n",
              "\n",
              "<div id=\"df-6ba94659-4721-4651-a8f3-955b870144ab\">\n",
              "  <button class=\"colab-df-quickchart\" onclick=\"quickchart('df-6ba94659-4721-4651-a8f3-955b870144ab')\"\n",
              "            title=\"Suggest charts\"\n",
              "            style=\"display:none;\">\n",
              "\n",
              "<svg xmlns=\"http://www.w3.org/2000/svg\" height=\"24px\"viewBox=\"0 0 24 24\"\n",
              "     width=\"24px\">\n",
              "    <g>\n",
              "        <path d=\"M19 3H5c-1.1 0-2 .9-2 2v14c0 1.1.9 2 2 2h14c1.1 0 2-.9 2-2V5c0-1.1-.9-2-2-2zM9 17H7v-7h2v7zm4 0h-2V7h2v10zm4 0h-2v-4h2v4z\"/>\n",
              "    </g>\n",
              "</svg>\n",
              "  </button>\n",
              "\n",
              "<style>\n",
              "  .colab-df-quickchart {\n",
              "      --bg-color: #E8F0FE;\n",
              "      --fill-color: #1967D2;\n",
              "      --hover-bg-color: #E2EBFA;\n",
              "      --hover-fill-color: #174EA6;\n",
              "      --disabled-fill-color: #AAA;\n",
              "      --disabled-bg-color: #DDD;\n",
              "  }\n",
              "\n",
              "  [theme=dark] .colab-df-quickchart {\n",
              "      --bg-color: #3B4455;\n",
              "      --fill-color: #D2E3FC;\n",
              "      --hover-bg-color: #434B5C;\n",
              "      --hover-fill-color: #FFFFFF;\n",
              "      --disabled-bg-color: #3B4455;\n",
              "      --disabled-fill-color: #666;\n",
              "  }\n",
              "\n",
              "  .colab-df-quickchart {\n",
              "    background-color: var(--bg-color);\n",
              "    border: none;\n",
              "    border-radius: 50%;\n",
              "    cursor: pointer;\n",
              "    display: none;\n",
              "    fill: var(--fill-color);\n",
              "    height: 32px;\n",
              "    padding: 0;\n",
              "    width: 32px;\n",
              "  }\n",
              "\n",
              "  .colab-df-quickchart:hover {\n",
              "    background-color: var(--hover-bg-color);\n",
              "    box-shadow: 0 1px 2px rgba(60, 64, 67, 0.3), 0 1px 3px 1px rgba(60, 64, 67, 0.15);\n",
              "    fill: var(--button-hover-fill-color);\n",
              "  }\n",
              "\n",
              "  .colab-df-quickchart-complete:disabled,\n",
              "  .colab-df-quickchart-complete:disabled:hover {\n",
              "    background-color: var(--disabled-bg-color);\n",
              "    fill: var(--disabled-fill-color);\n",
              "    box-shadow: none;\n",
              "  }\n",
              "\n",
              "  .colab-df-spinner {\n",
              "    border: 2px solid var(--fill-color);\n",
              "    border-color: transparent;\n",
              "    border-bottom-color: var(--fill-color);\n",
              "    animation:\n",
              "      spin 1s steps(1) infinite;\n",
              "  }\n",
              "\n",
              "  @keyframes spin {\n",
              "    0% {\n",
              "      border-color: transparent;\n",
              "      border-bottom-color: var(--fill-color);\n",
              "      border-left-color: var(--fill-color);\n",
              "    }\n",
              "    20% {\n",
              "      border-color: transparent;\n",
              "      border-left-color: var(--fill-color);\n",
              "      border-top-color: var(--fill-color);\n",
              "    }\n",
              "    30% {\n",
              "      border-color: transparent;\n",
              "      border-left-color: var(--fill-color);\n",
              "      border-top-color: var(--fill-color);\n",
              "      border-right-color: var(--fill-color);\n",
              "    }\n",
              "    40% {\n",
              "      border-color: transparent;\n",
              "      border-right-color: var(--fill-color);\n",
              "      border-top-color: var(--fill-color);\n",
              "    }\n",
              "    60% {\n",
              "      border-color: transparent;\n",
              "      border-right-color: var(--fill-color);\n",
              "    }\n",
              "    80% {\n",
              "      border-color: transparent;\n",
              "      border-right-color: var(--fill-color);\n",
              "      border-bottom-color: var(--fill-color);\n",
              "    }\n",
              "    90% {\n",
              "      border-color: transparent;\n",
              "      border-bottom-color: var(--fill-color);\n",
              "    }\n",
              "  }\n",
              "</style>\n",
              "\n",
              "  <script>\n",
              "    async function quickchart(key) {\n",
              "      const quickchartButtonEl =\n",
              "        document.querySelector('#' + key + ' button');\n",
              "      quickchartButtonEl.disabled = true;  // To prevent multiple clicks.\n",
              "      quickchartButtonEl.classList.add('colab-df-spinner');\n",
              "      try {\n",
              "        const charts = await google.colab.kernel.invokeFunction(\n",
              "            'suggestCharts', [key], {});\n",
              "      } catch (error) {\n",
              "        console.error('Error during call to suggestCharts:', error);\n",
              "      }\n",
              "      quickchartButtonEl.classList.remove('colab-df-spinner');\n",
              "      quickchartButtonEl.classList.add('colab-df-quickchart-complete');\n",
              "    }\n",
              "    (() => {\n",
              "      let quickchartButtonEl =\n",
              "        document.querySelector('#df-6ba94659-4721-4651-a8f3-955b870144ab button');\n",
              "      quickchartButtonEl.style.display =\n",
              "        google.colab.kernel.accessAllowed ? 'block' : 'none';\n",
              "    })();\n",
              "  </script>\n",
              "</div>\n",
              "    </div>\n",
              "  </div>\n"
            ],
            "application/vnd.google.colaboratory.intrinsic+json": {
              "type": "dataframe",
              "variable_name": "test_data",
              "summary": "{\n  \"name\": \"test_data\",\n  \"rows\": 15752,\n  \"fields\": [\n    {\n      \"column\": \"T1\",\n      \"properties\": {\n        \"dtype\": \"number\",\n        \"std\": 8,\n        \"min\": -95,\n        \"max\": -41,\n        \"num_unique_values\": 49,\n        \"samples\": [\n          -82,\n          -86,\n          -45\n        ],\n        \"semantic_type\": \"\",\n        \"description\": \"\"\n      }\n    },\n    {\n      \"column\": \"T2\",\n      \"properties\": {\n        \"dtype\": \"number\",\n        \"std\": 9,\n        \"min\": -95,\n        \"max\": -36,\n        \"num_unique_values\": 54,\n        \"samples\": [\n          -72,\n          -95,\n          -87\n        ],\n        \"semantic_type\": \"\",\n        \"description\": \"\"\n      }\n    },\n    {\n      \"column\": \"T3\",\n      \"properties\": {\n        \"dtype\": \"number\",\n        \"std\": 8,\n        \"min\": -95,\n        \"max\": -42,\n        \"num_unique_values\": 46,\n        \"samples\": [\n          -85,\n          -75,\n          -54\n        ],\n        \"semantic_type\": \"\",\n        \"description\": \"\"\n      }\n    },\n    {\n      \"column\": \"T4\",\n      \"properties\": {\n        \"dtype\": \"number\",\n        \"std\": 8,\n        \"min\": -95,\n        \"max\": -41,\n        \"num_unique_values\": 47,\n        \"samples\": [\n          -57,\n          -83,\n          -71\n        ],\n        \"semantic_type\": \"\",\n        \"description\": \"\"\n      }\n    },\n    {\n      \"column\": \"T5\",\n      \"properties\": {\n        \"dtype\": \"number\",\n        \"std\": 8,\n        \"min\": -95,\n        \"max\": -32,\n        \"num_unique_values\": 47,\n        \"samples\": [\n          -47,\n          -46,\n          -53\n        ],\n        \"semantic_type\": \"\",\n        \"description\": \"\"\n      }\n    },\n    {\n      \"column\": \"T6\",\n      \"properties\": {\n        \"dtype\": \"number\",\n        \"std\": 8,\n        \"min\": -95,\n        \"max\": -39,\n        \"num_unique_values\": 47,\n        \"samples\": [\n          -75,\n          -82,\n          -45\n        ],\n        \"semantic_type\": \"\",\n        \"description\": \"\"\n      }\n    },\n    {\n      \"column\": \"T7\",\n      \"properties\": {\n        \"dtype\": \"number\",\n        \"std\": 9,\n        \"min\": -95,\n        \"max\": -46,\n        \"num_unique_values\": 43,\n        \"samples\": [\n          -57,\n          -52,\n          -59\n        ],\n        \"semantic_type\": \"\",\n        \"description\": \"\"\n      }\n    },\n    {\n      \"column\": \"T8\",\n      \"properties\": {\n        \"dtype\": \"number\",\n        \"std\": 10,\n        \"min\": -95,\n        \"max\": -40,\n        \"num_unique_values\": 50,\n        \"samples\": [\n          -48,\n          -81,\n          -50\n        ],\n        \"semantic_type\": \"\",\n        \"description\": \"\"\n      }\n    },\n    {\n      \"column\": \"T9\",\n      \"properties\": {\n        \"dtype\": \"number\",\n        \"std\": 10,\n        \"min\": -95,\n        \"max\": -39,\n        \"num_unique_values\": 48,\n        \"samples\": [\n          -56,\n          -95,\n          -84\n        ],\n        \"semantic_type\": \"\",\n        \"description\": \"\"\n      }\n    },\n    {\n      \"column\": \"T10\",\n      \"properties\": {\n        \"dtype\": \"number\",\n        \"std\": 10,\n        \"min\": -95,\n        \"max\": -41,\n        \"num_unique_values\": 47,\n        \"samples\": [\n          -50,\n          -44,\n          -77\n        ],\n        \"semantic_type\": \"\",\n        \"description\": \"\"\n      }\n    },\n    {\n      \"column\": \"T11\",\n      \"properties\": {\n        \"dtype\": \"number\",\n        \"std\": 9,\n        \"min\": -95,\n        \"max\": -43,\n        \"num_unique_values\": 48,\n        \"samples\": [\n          -53,\n          -51,\n          -85\n        ],\n        \"semantic_type\": \"\",\n        \"description\": \"\"\n      }\n    },\n    {\n      \"column\": \"T12\",\n      \"properties\": {\n        \"dtype\": \"number\",\n        \"std\": 8,\n        \"min\": -95,\n        \"max\": -43,\n        \"num_unique_values\": 45,\n        \"samples\": [\n          -46,\n          -80,\n          -73\n        ],\n        \"semantic_type\": \"\",\n        \"description\": \"\"\n      }\n    },\n    {\n      \"column\": \"T13\",\n      \"properties\": {\n        \"dtype\": \"number\",\n        \"std\": 8,\n        \"min\": -95,\n        \"max\": -44,\n        \"num_unique_values\": 46,\n        \"samples\": [\n          -47,\n          -76,\n          -85\n        ],\n        \"semantic_type\": \"\",\n        \"description\": \"\"\n      }\n    },\n    {\n      \"column\": \"T14\",\n      \"properties\": {\n        \"dtype\": \"number\",\n        \"std\": 9,\n        \"min\": -95,\n        \"max\": -39,\n        \"num_unique_values\": 47,\n        \"samples\": [\n          -74,\n          -78,\n          -51\n        ],\n        \"semantic_type\": \"\",\n        \"description\": \"\"\n      }\n    },\n    {\n      \"column\": \"T15\",\n      \"properties\": {\n        \"dtype\": \"number\",\n        \"std\": 9,\n        \"min\": -95,\n        \"max\": -38,\n        \"num_unique_values\": 52,\n        \"samples\": [\n          -57,\n          -48,\n          -84\n        ],\n        \"semantic_type\": \"\",\n        \"description\": \"\"\n      }\n    },\n    {\n      \"column\": \"T16\",\n      \"properties\": {\n        \"dtype\": \"number\",\n        \"std\": 10,\n        \"min\": -95,\n        \"max\": -41,\n        \"num_unique_values\": 48,\n        \"samples\": [\n          -72,\n          -80,\n          -50\n        ],\n        \"semantic_type\": \"\",\n        \"description\": \"\"\n      }\n    },\n    {\n      \"column\": \"T17\",\n      \"properties\": {\n        \"dtype\": \"number\",\n        \"std\": 10,\n        \"min\": -95,\n        \"max\": -43,\n        \"num_unique_values\": 47,\n        \"samples\": [\n          -71,\n          -47,\n          -63\n        ],\n        \"semantic_type\": \"\",\n        \"description\": \"\"\n      }\n    },\n    {\n      \"column\": \"T18\",\n      \"properties\": {\n        \"dtype\": \"number\",\n        \"std\": 10,\n        \"min\": -95,\n        \"max\": -39,\n        \"num_unique_values\": 47,\n        \"samples\": [\n          -40,\n          -44,\n          -72\n        ],\n        \"semantic_type\": \"\",\n        \"description\": \"\"\n      }\n    }\n  ]\n}"
            }
          },
          "metadata": {},
          "execution_count": 12
        }
      ]
    },
    {
      "cell_type": "code",
      "source": [
        "y_train"
      ],
      "metadata": {
        "colab": {
          "base_uri": "https://localhost:8080/"
        },
        "id": "C5fw8L9eRhVc",
        "outputId": "c3f3d739-56c9-4a5b-db78-904d66634783"
      },
      "execution_count": null,
      "outputs": [
        {
          "output_type": "execute_result",
          "data": {
            "text/plain": [
              "array(['B37', 'B61', 'A19', ..., 'A6', 'B2', 'B45'], dtype=object)"
            ]
          },
          "metadata": {},
          "execution_count": 13
        }
      ]
    },
    {
      "cell_type": "code",
      "source": [
        "print(X_train.shape,y_train.shape)"
      ],
      "metadata": {
        "colab": {
          "base_uri": "https://localhost:8080/"
        },
        "id": "eNjqQp6GRiPz",
        "outputId": "ec8a8f81-0daa-44a9-abc6-5f7abcc39279"
      },
      "execution_count": null,
      "outputs": [
        {
          "output_type": "stream",
          "name": "stdout",
          "text": [
            "(36752, 18) (36752,)\n"
          ]
        }
      ]
    },
    {
      "cell_type": "code",
      "source": [
        "from sklearn.preprocessing import LabelEncoder\n",
        "le = LabelEncoder()"
      ],
      "metadata": {
        "id": "ZaH5JpYzVj8N"
      },
      "execution_count": null,
      "outputs": []
    },
    {
      "cell_type": "code",
      "source": [
        "y_train_data = le.fit_transform(y_train)"
      ],
      "metadata": {
        "id": "2bFFee5QVtAm"
      },
      "execution_count": null,
      "outputs": []
    },
    {
      "cell_type": "code",
      "source": [
        "y_train_data.max()"
      ],
      "metadata": {
        "colab": {
          "base_uri": "https://localhost:8080/"
        },
        "id": "9znyIwHxV2vm",
        "outputId": "091e6116-fcd5-40c7-cf7e-9cabf3f1cb86"
      },
      "execution_count": null,
      "outputs": [
        {
          "output_type": "execute_result",
          "data": {
            "text/plain": [
              "159"
            ]
          },
          "metadata": {},
          "execution_count": 17
        }
      ]
    },
    {
      "cell_type": "code",
      "source": [
        "y_train_data[:10]"
      ],
      "metadata": {
        "colab": {
          "base_uri": "https://localhost:8080/"
        },
        "id": "Q5xfIgy9V6DO",
        "outputId": "fff63ed3-6225-4b4c-d3f5-b78d3def90a2"
      },
      "execution_count": null,
      "outputs": [
        {
          "output_type": "execute_result",
          "data": {
            "text/plain": [
              "array([110, 137,  10,  14,  26,  72,  35,  85, 158,  26])"
            ]
          },
          "metadata": {},
          "execution_count": 18
        }
      ]
    },
    {
      "cell_type": "code",
      "source": [
        "from sklearn.preprocessing import StandardScaler\n",
        "scaler = StandardScaler()"
      ],
      "metadata": {
        "id": "r2-x4Gh2V_VQ"
      },
      "execution_count": null,
      "outputs": []
    },
    {
      "cell_type": "code",
      "source": [
        "X_train_data = scaler.fit_transform(X_train)\n",
        "X_test_data = scaler.fit_transform(test_data)\n",
        "print(X_train_data.shape)"
      ],
      "metadata": {
        "colab": {
          "base_uri": "https://localhost:8080/"
        },
        "id": "Sgi_z-X6bo4u",
        "outputId": "5b5e47c0-6f44-4615-8c7b-9e77fde9e216"
      },
      "execution_count": null,
      "outputs": [
        {
          "output_type": "stream",
          "name": "stdout",
          "text": [
            "(36752, 18)\n"
          ]
        }
      ]
    },
    {
      "cell_type": "code",
      "source": [
        "X_train_data"
      ],
      "metadata": {
        "colab": {
          "base_uri": "https://localhost:8080/"
        },
        "id": "vY0LwAcmbyT2",
        "outputId": "f3d899b7-2136-48b0-ee27-75831b0c19f3"
      },
      "execution_count": null,
      "outputs": [
        {
          "output_type": "execute_result",
          "data": {
            "text/plain": [
              "array([[-0.47321406,  0.39508167, -0.17481688, ..., -1.03062689,\n",
              "         0.28899656, -0.98195758],\n",
              "       [-1.27438905, -1.06322685, -0.78798229, ...,  0.10784997,\n",
              "         1.28186418,  0.33869147],\n",
              "       [ 1.47249662,  2.97516597,  1.17414703, ...,  0.39246918,\n",
              "        -0.20743726, -0.98195758],\n",
              "       ...,\n",
              "       [ 2.73148589,  0.7316144 , -0.91061537, ..., -0.55626153,\n",
              "        -0.90244459, -0.69896135],\n",
              "       [ 1.81585733,  1.62903503, -0.6653492 , ..., -0.93575382,\n",
              "        -0.60458431, -1.35928588],\n",
              "       [-0.01539979,  0.05854893, -0.6653492 , ...,  0.29759611,\n",
              "        -0.10815049,  0.15002732]])"
            ]
          },
          "metadata": {},
          "execution_count": 21
        }
      ]
    },
    {
      "cell_type": "code",
      "source": [
        "train_df = pd.DataFrame({'class': y_train_data})"
      ],
      "metadata": {
        "id": "taBbTRpAb_-Q"
      },
      "execution_count": null,
      "outputs": []
    },
    {
      "cell_type": "markdown",
      "source": [
        "Checking if dataset is Balanced or not?"
      ],
      "metadata": {
        "id": "Canh8pilsu87"
      }
    },
    {
      "cell_type": "code",
      "source": [
        "import seaborn as sns"
      ],
      "metadata": {
        "id": "iksByB7DNENd"
      },
      "execution_count": null,
      "outputs": []
    },
    {
      "cell_type": "code",
      "source": [
        "fig,ax = plt.subplots(figsize=(8,4))\n",
        "idx , c = np.unique(y_train_data,return_counts=True)\n",
        "sns.barplot(x=idx,y=c,ax=ax)\n",
        "plt.show()"
      ],
      "metadata": {
        "colab": {
          "base_uri": "https://localhost:8080/",
          "height": 368
        },
        "id": "nxXeP3akMgu4",
        "outputId": "87906502-0cfe-4717-c33c-144aa7e311a5"
      },
      "execution_count": null,
      "outputs": [
        {
          "output_type": "display_data",
          "data": {
            "text/plain": [
              "<Figure size 800x400 with 1 Axes>"
            ],
            "image/png": "[encoded data removed]"
          },
          "metadata": {}
        }
      ]
    },
    {
      "cell_type": "code",
      "source": [
        "\n",
        "train_class_counts = train_df['class'].value_counts()\n",
        "train_class_percentages = train_df['class'].value_counts(normalize=True) * 100\n",
        "\n",
        "print(\"Training Set Class Distribution:\")\n",
        "print(train_class_counts)\n",
        "print(\"\\nTraining Set Class Percentages:\")\n",
        "print(train_class_percentages)"
      ],
      "metadata": {
        "colab": {
          "base_uri": "https://localhost:8080/"
        },
        "id": "8lD5zV9nsguu",
        "outputId": "72102104-ee2d-4c60-a419-539db97720a4"
      },
      "execution_count": null,
      "outputs": [
        {
          "output_type": "stream",
          "name": "stdout",
          "text": [
            "Training Set Class Distribution:\n",
            "class\n",
            "32     635\n",
            "26     633\n",
            "21     432\n",
            "22     429\n",
            "119    428\n",
            "      ... \n",
            "19     191\n",
            "141    191\n",
            "65     190\n",
            "9      189\n",
            "79     188\n",
            "Name: count, Length: 160, dtype: int64\n",
            "\n",
            "Training Set Class Percentages:\n",
            "class\n",
            "32     1.727797\n",
            "26     1.722355\n",
            "21     1.175446\n",
            "22     1.167283\n",
            "119    1.164562\n",
            "         ...   \n",
            "19     0.519700\n",
            "141    0.519700\n",
            "65     0.516979\n",
            "9      0.514258\n",
            "79     0.511537\n",
            "Name: proportion, Length: 160, dtype: float64\n"
          ]
        }
      ]
    },
    {
      "cell_type": "markdown",
      "source": [
        "**By analysing we find dataset is unbalanced..**\n",
        "Only 2 values of 44th class , but 492 values for 22nd class\n",
        "\n",
        "To handle imbalance we will use the weight parameter in the CrossEntropyLoss function, for that we will need frequency of parameters\n",
        "\n",
        "And also SMOTE for dealing with imbalanced data"
      ],
      "metadata": {
        "id": "Z7s27nVws4SD"
      }
    },
    {
      "cell_type": "code",
      "source": [
        "print(train_class_counts)"
      ],
      "metadata": {
        "colab": {
          "base_uri": "https://localhost:8080/"
        },
        "id": "QAmIi640wTCF",
        "outputId": "063c01e4-e495-49ef-e149-4fa51193727a"
      },
      "execution_count": null,
      "outputs": [
        {
          "output_type": "stream",
          "name": "stdout",
          "text": [
            "class\n",
            "32     635\n",
            "26     633\n",
            "21     432\n",
            "22     429\n",
            "119    428\n",
            "      ... \n",
            "19     191\n",
            "141    191\n",
            "65     190\n",
            "9      189\n",
            "79     188\n",
            "Name: count, Length: 160, dtype: int64\n"
          ]
        }
      ]
    },
    {
      "cell_type": "code",
      "source": [
        "np.max(train_class_counts)"
      ],
      "metadata": {
        "colab": {
          "base_uri": "https://localhost:8080/"
        },
        "id": "p8vAK0CKv4f9",
        "outputId": "6d5ead0d-6201-4a7c-d5ab-c3d9d1090e63"
      },
      "execution_count": null,
      "outputs": [
        {
          "output_type": "execute_result",
          "data": {
            "text/plain": [
              "635"
            ]
          },
          "metadata": {},
          "execution_count": 27
        }
      ]
    },
    {
      "cell_type": "code",
      "source": [
        "np.argmax(train_class_counts)"
      ],
      "metadata": {
        "colab": {
          "base_uri": "https://localhost:8080/"
        },
        "id": "9dNr3HvKwEJD",
        "outputId": "e069e9b2-48be-4d05-f034-9e43e8fd9c21"
      },
      "execution_count": null,
      "outputs": [
        {
          "output_type": "execute_result",
          "data": {
            "text/plain": [
              "0"
            ]
          },
          "metadata": {},
          "execution_count": 28
        }
      ]
    },
    {
      "cell_type": "markdown",
      "source": [
        "Dataset is widely biased towards zeroeth class. If not treated, this will cause problems later..\n",
        "\n",
        "But first, we will apply well-known models for unbalanced multiclass classification."
      ],
      "metadata": {
        "id": "SrSO5M3dVbAK"
      }
    },
    {
      "cell_type": "markdown",
      "source": [
        "# Classification using RandomForestClassifier"
      ],
      "metadata": {
        "id": "vQC7TE7clZEb"
      }
    },
    {
      "cell_type": "code",
      "source": [
        "X_train_RFC, X_test_RFC, y_train_RFC, y_test_RFC = train_test_split(X_train_data, y_train_data, test_size=0.2, random_state=42, stratify=y_train_data)"
      ],
      "metadata": {
        "id": "QWwMOr6Qe92T"
      },
      "execution_count": null,
      "outputs": []
    },
    {
      "cell_type": "code",
      "source": [
        "from sklearn.ensemble import RandomForestClassifier"
      ],
      "metadata": {
        "id": "p6LPSJislLAk"
      },
      "execution_count": null,
      "outputs": []
    },
    {
      "cell_type": "code",
      "source": [
        "clf = RandomForestClassifier(n_estimators=100, random_state=42)\n",
        "clf.fit(X_train_RFC, y_train_RFC)"
      ],
      "metadata": {
        "id": "fEyEeKI0ligY",
        "colab": {
          "base_uri": "https://localhost:8080/",
          "height": 74
        },
        "outputId": "c9c93279-d3d1-43b5-a143-da393d99d153"
      },
      "execution_count": null,
      "outputs": [
        {
          "output_type": "execute_result",
          "data": {
            "text/plain": [
              "RandomForestClassifier(random_state=42)"
            ],
            "text/html": [
              "<style>#sk-container-id-1 {color: black;background-color: white;}#sk-container-id-1 pre{padding: 0;}#sk-container-id-1 div.sk-toggleable {background-color: white;}#sk-container-id-1 label.sk-toggleable__label {cursor: pointer;display: block;width: 100%;margin-bottom: 0;padding: 0.3em;box-sizing: border-box;text-align: center;}#sk-container-id-1 label.sk-toggleable__label-arrow:before {content: \"▸\";float: left;margin-right: 0.25em;color: #696969;}#sk-container-id-1 label.sk-toggleable__label-arrow:hover:before {color: black;}#sk-container-id-1 div.sk-estimator:hover label.sk-toggleable__label-arrow:before {color: black;}#sk-container-id-1 div.sk-toggleable__content {max-height: 0;max-width: 0;overflow: hidden;text-align: left;background-color: #f0f8ff;}#sk-container-id-1 div.sk-toggleable__content pre {margin: 0.2em;color: black;border-radius: 0.25em;background-color: #f0f8ff;}#sk-container-id-1 input.sk-toggleable__control:checked~div.sk-toggleable__content {max-height: 200px;max-width: 100%;overflow: auto;}#sk-container-id-1 input.sk-toggleable__control:checked~label.sk-toggleable__label-arrow:before {content: \"▾\";}#sk-container-id-1 div.sk-estimator input.sk-toggleable__control:checked~label.sk-toggleable__label {background-color: #d4ebff;}#sk-container-id-1 div.sk-label input.sk-toggleable__control:checked~label.sk-toggleable__label {background-color: #d4ebff;}#sk-container-id-1 input.sk-hidden--visually {border: 0;clip: rect(1px 1px 1px 1px);clip: rect(1px, 1px, 1px, 1px);height: 1px;margin: -1px;overflow: hidden;padding: 0;position: absolute;width: 1px;}#sk-container-id-1 div.sk-estimator {font-family: monospace;background-color: #f0f8ff;border: 1px dotted black;border-radius: 0.25em;box-sizing: border-box;margin-bottom: 0.5em;}#sk-container-id-1 div.sk-estimator:hover {background-color: #d4ebff;}#sk-container-id-1 div.sk-parallel-item::after {content: \"\";width: 100%;border-bottom: 1px solid gray;flex-grow: 1;}#sk-container-id-1 div.sk-label:hover label.sk-toggleable__label {background-color: #d4ebff;}#sk-container-id-1 div.sk-serial::before {content: \"\";position: absolute;border-left: 1px solid gray;box-sizing: border-box;top: 0;bottom: 0;left: 50%;z-index: 0;}#sk-container-id-1 div.sk-serial {display: flex;flex-direction: column;align-items: center;background-color: white;padding-right: 0.2em;padding-left: 0.2em;position: relative;}#sk-container-id-1 div.sk-item {position: relative;z-index: 1;}#sk-container-id-1 div.sk-parallel {display: flex;align-items: stretch;justify-content: center;background-color: white;position: relative;}#sk-container-id-1 div.sk-item::before, #sk-container-id-1 div.sk-parallel-item::before {content: \"\";position: absolute;border-left: 1px solid gray;box-sizing: border-box;top: 0;bottom: 0;left: 50%;z-index: -1;}#sk-container-id-1 div.sk-parallel-item {display: flex;flex-direction: column;z-index: 1;position: relative;background-color: white;}#sk-container-id-1 div.sk-parallel-item:first-child::after {align-self: flex-end;width: 50%;}#sk-container-id-1 div.sk-parallel-item:last-child::after {align-self: flex-start;width: 50%;}#sk-container-id-1 div.sk-parallel-item:only-child::after {width: 0;}#sk-container-id-1 div.sk-dashed-wrapped {border: 1px dashed gray;margin: 0 0.4em 0.5em 0.4em;box-sizing: border-box;padding-bottom: 0.4em;background-color: white;}#sk-container-id-1 div.sk-label label {font-family: monospace;font-weight: bold;display: inline-block;line-height: 1.2em;}#sk-container-id-1 div.sk-label-container {text-align: center;}#sk-container-id-1 div.sk-container {/* jupyter's `normalize.less` sets `[hidden] { display: none; }` but bootstrap.min.css set `[hidden] { display: none !important; }` so we also need the `!important` here to be able to override the default hidden behavior on the sphinx rendered scikit-learn.org. See: https://github.com/scikit-learn/scikit-learn/issues/21755 */display: inline-block !important;position: relative;}#sk-container-id-1 div.sk-text-repr-fallback {display: none;}</style><div id=\"sk-container-id-1\" class=\"sk-top-container\"><div class=\"sk-text-repr-fallback\"><pre>RandomForestClassifier(random_state=42)</pre><b>In a Jupyter environment, please rerun this cell to show the HTML representation or trust the notebook. <br />On GitHub, the HTML representation is unable to render, please try loading this page with nbviewer.org.</b></div><div class=\"sk-container\" hidden><div class=\"sk-item\"><div class=\"sk-estimator sk-toggleable\"><input class=\"sk-toggleable__control sk-hidden--visually\" id=\"sk-estimator-id-1\" type=\"checkbox\" checked><label for=\"sk-estimator-id-1\" class=\"sk-toggleable__label sk-toggleable__label-arrow\">RandomForestClassifier</label><div class=\"sk-toggleable__content\"><pre>RandomForestClassifier(random_state=42)</pre></div></div></div></div></div>"
            ]
          },
          "metadata": {},
          "execution_count": 31
        }
      ]
    },
    {
      "cell_type": "code",
      "source": [
        "from sklearn.metrics import classification_report, accuracy_score"
      ],
      "metadata": {
        "id": "WSS6u0-ClmOA"
      },
      "execution_count": null,
      "outputs": []
    },
    {
      "cell_type": "code",
      "source": [
        "y_train_data"
      ],
      "metadata": {
        "colab": {
          "base_uri": "https://localhost:8080/"
        },
        "id": "RjCSctECZGgk",
        "outputId": "8d9f9d1a-b8b7-4a6b-87e6-653b721fa17f"
      },
      "execution_count": null,
      "outputs": [
        {
          "output_type": "execute_result",
          "data": {
            "text/plain": [
              "array([110, 137,  10, ...,  55,  91, 119])"
            ]
          },
          "metadata": {},
          "execution_count": 33
        }
      ]
    },
    {
      "cell_type": "code",
      "source": [
        "le.classes_"
      ],
      "metadata": {
        "colab": {
          "base_uri": "https://localhost:8080/"
        },
        "id": "yhxa3leJZVi3",
        "outputId": "4acecdf5-948b-44aa-8bd5-cbf2dedabb2c"
      },
      "execution_count": null,
      "outputs": [
        {
          "output_type": "execute_result",
          "data": {
            "text/plain": [
              "array(['A1', 'A10', 'A11', 'A12', 'A13', 'A14', 'A15', 'A16', 'A17',\n",
              "       'A18', 'A19', 'A2', 'A20', 'A21', 'A22', 'A23', 'A24', 'A25',\n",
              "       'A26', 'A27', 'A28', 'A29', 'A3', 'A30', 'A31', 'A32', 'A33',\n",
              "       'A34', 'A35', 'A36', 'A37', 'A38', 'A39', 'A4', 'A40', 'A41',\n",
              "       'A42', 'A43', 'A44', 'A45', 'A46', 'A47', 'A48', 'A49', 'A5',\n",
              "       'A50', 'A51', 'A52', 'A53', 'A54', 'A55', 'A56', 'A57', 'A58',\n",
              "       'A59', 'A6', 'A60', 'A61', 'A62', 'A63', 'A64', 'A65', 'A66',\n",
              "       'A67', 'A68', 'A69', 'A7', 'A70', 'A71', 'A72', 'A73', 'A74',\n",
              "       'A75', 'A76', 'A77', 'A78', 'A79', 'A8', 'A80', 'A9', 'B1', 'B10',\n",
              "       'B11', 'B12', 'B13', 'B14', 'B15', 'B16', 'B17', 'B18', 'B19',\n",
              "       'B2', 'B20', 'B21', 'B22', 'B23', 'B24', 'B25', 'B26', 'B27',\n",
              "       'B28', 'B29', 'B3', 'B30', 'B31', 'B32', 'B33', 'B34', 'B35',\n",
              "       'B36', 'B37', 'B38', 'B39', 'B4', 'B40', 'B41', 'B42', 'B43',\n",
              "       'B44', 'B45', 'B46', 'B47', 'B48', 'B49', 'B5', 'B50', 'B51',\n",
              "       'B52', 'B53', 'B54', 'B55', 'B56', 'B57', 'B58', 'B59', 'B6',\n",
              "       'B60', 'B61', 'B62', 'B63', 'B64', 'B65', 'B66', 'B67', 'B68',\n",
              "       'B69', 'B7', 'B70', 'B71', 'B72', 'B73', 'B74', 'B75', 'B76',\n",
              "       'B77', 'B78', 'B79', 'B8', 'B80', 'B9'], dtype=object)"
            ]
          },
          "metadata": {},
          "execution_count": 34
        }
      ]
    },
    {
      "cell_type": "code",
      "source": [
        "y_pred_RFC = clf.predict(X_test_RFC)\n",
        "\n",
        "print(f\"Accuracy: {accuracy_score(y_test_RFC, y_pred_RFC)}\")\n",
        "print(classification_report(y_test_RFC, y_pred_RFC, target_names=le.classes_))"
      ],
      "metadata": {
        "id": "dpJk3mG1lr6Y",
        "colab": {
          "base_uri": "https://localhost:8080/"
        },
        "outputId": "ec4cb639-9214-401c-d63b-925d66e62125"
      },
      "execution_count": null,
      "outputs": [
        {
          "output_type": "stream",
          "name": "stdout",
          "text": [
            "Accuracy: 0.9881648755271392\n",
            "              precision    recall  f1-score   support\n",
            "\n",
            "          A1       0.95      0.95      0.95        43\n",
            "         A10       0.93      0.95      0.94        41\n",
            "         A11       1.00      1.00      1.00        42\n",
            "         A12       1.00      1.00      1.00        41\n",
            "         A13       1.00      1.00      1.00        44\n",
            "         A14       0.99      1.00      0.99        84\n",
            "         A15       1.00      1.00      1.00        83\n",
            "         A16       1.00      1.00      1.00        42\n",
            "         A17       0.95      0.95      0.95        41\n",
            "         A18       1.00      1.00      1.00        38\n",
            "         A19       1.00      1.00      1.00        42\n",
            "          A2       1.00      1.00      1.00        41\n",
            "         A20       1.00      1.00      1.00        41\n",
            "         A21       0.98      1.00      0.99        82\n",
            "         A22       1.00      1.00      1.00        42\n",
            "         A23       1.00      1.00      1.00        40\n",
            "         A24       1.00      1.00      1.00        42\n",
            "         A25       0.97      0.99      0.98        85\n",
            "         A26       1.00      1.00      1.00        41\n",
            "         A27       1.00      1.00      1.00        38\n",
            "         A28       1.00      1.00      1.00        41\n",
            "         A29       0.99      0.98      0.98        87\n",
            "          A3       0.98      0.97      0.97        86\n",
            "         A30       1.00      1.00      1.00        42\n",
            "         A31       0.93      0.93      0.93        42\n",
            "         A32       1.00      1.00      1.00        40\n",
            "         A33       0.98      1.00      0.99       127\n",
            "         A34       1.00      1.00      1.00        84\n",
            "         A35       1.00      1.00      1.00        40\n",
            "         A36       1.00      1.00      1.00        41\n",
            "         A37       1.00      0.98      0.99        83\n",
            "         A38       1.00      1.00      1.00        40\n",
            "         A39       0.98      0.94      0.96       127\n",
            "          A4       0.99      1.00      0.99        84\n",
            "         A40       1.00      1.00      1.00        40\n",
            "         A41       0.98      0.98      0.98        44\n",
            "         A42       1.00      1.00      1.00        44\n",
            "         A43       1.00      1.00      1.00        43\n",
            "         A44       1.00      1.00      1.00        43\n",
            "         A45       1.00      1.00      1.00        42\n",
            "         A46       1.00      1.00      1.00        41\n",
            "         A47       1.00      1.00      1.00        43\n",
            "         A48       1.00      1.00      1.00        44\n",
            "         A49       0.95      0.97      0.96        40\n",
            "          A5       0.92      0.86      0.89        42\n",
            "         A50       1.00      1.00      1.00        40\n",
            "         A51       1.00      1.00      1.00        44\n",
            "         A52       1.00      1.00      1.00        39\n",
            "         A53       0.98      0.98      0.98        43\n",
            "         A54       1.00      1.00      1.00        43\n",
            "         A55       1.00      1.00      1.00        41\n",
            "         A56       1.00      1.00      1.00        41\n",
            "         A57       1.00      0.98      0.99        42\n",
            "         A58       0.97      1.00      0.99        39\n",
            "         A59       1.00      1.00      1.00        46\n",
            "          A6       1.00      1.00      1.00        41\n",
            "         A60       1.00      1.00      1.00        39\n",
            "         A61       0.57      0.49      0.53        43\n",
            "         A62       1.00      1.00      1.00        42\n",
            "         A63       1.00      1.00      1.00        43\n",
            "         A64       1.00      1.00      1.00        43\n",
            "         A65       0.93      0.97      0.95        40\n",
            "         A66       0.98      1.00      0.99        41\n",
            "         A67       1.00      1.00      1.00        44\n",
            "         A68       1.00      1.00      1.00        41\n",
            "         A69       1.00      1.00      1.00        38\n",
            "          A7       1.00      1.00      1.00        43\n",
            "         A70       1.00      1.00      1.00        43\n",
            "         A71       1.00      1.00      1.00        39\n",
            "         A72       1.00      1.00      1.00        41\n",
            "         A73       1.00      1.00      1.00        43\n",
            "         A74       1.00      1.00      1.00        43\n",
            "         A75       1.00      1.00      1.00        45\n",
            "         A76       1.00      1.00      1.00        43\n",
            "         A77       0.98      1.00      0.99        48\n",
            "         A78       1.00      1.00      1.00        42\n",
            "         A79       1.00      1.00      1.00        41\n",
            "          A8       1.00      1.00      1.00        42\n",
            "         A80       1.00      1.00      1.00        41\n",
            "          A9       0.90      0.92      0.91        38\n",
            "          B1       1.00      1.00      1.00        42\n",
            "         B10       1.00      1.00      1.00        40\n",
            "         B11       1.00      1.00      1.00        42\n",
            "         B12       1.00      1.00      1.00        42\n",
            "         B13       1.00      0.96      0.98        46\n",
            "         B14       1.00      1.00      1.00        42\n",
            "         B15       1.00      1.00      1.00        40\n",
            "         B16       1.00      1.00      1.00        44\n",
            "         B17       0.52      0.60      0.56        42\n",
            "         B18       1.00      1.00      1.00        43\n",
            "         B19       1.00      1.00      1.00        41\n",
            "          B2       0.98      1.00      0.99        42\n",
            "         B20       1.00      1.00      1.00        42\n",
            "         B21       1.00      1.00      1.00        44\n",
            "         B22       1.00      1.00      1.00        45\n",
            "         B23       1.00      1.00      1.00        42\n",
            "         B24       1.00      1.00      1.00        42\n",
            "         B25       1.00      0.98      0.99        43\n",
            "         B26       1.00      1.00      1.00        42\n",
            "         B27       1.00      1.00      1.00        42\n",
            "         B28       1.00      1.00      1.00        42\n",
            "         B29       1.00      1.00      1.00        43\n",
            "          B3       1.00      1.00      1.00        43\n",
            "         B30       1.00      1.00      1.00        42\n",
            "         B31       1.00      1.00      1.00        43\n",
            "         B32       1.00      1.00      1.00        39\n",
            "         B33       1.00      1.00      1.00        43\n",
            "         B34       0.98      1.00      0.99        43\n",
            "         B35       1.00      1.00      1.00        42\n",
            "         B36       1.00      1.00      1.00        41\n",
            "         B37       1.00      1.00      1.00        42\n",
            "         B38       0.98      1.00      0.99        40\n",
            "         B39       1.00      1.00      1.00        42\n",
            "          B4       1.00      1.00      1.00        45\n",
            "         B40       1.00      1.00      1.00        41\n",
            "         B41       1.00      1.00      1.00        40\n",
            "         B42       1.00      1.00      1.00        43\n",
            "         B43       1.00      1.00      1.00        42\n",
            "         B44       1.00      1.00      1.00        44\n",
            "         B45       1.00      1.00      1.00        86\n",
            "         B46       1.00      1.00      1.00        43\n",
            "         B47       1.00      1.00      1.00        45\n",
            "         B48       1.00      1.00      1.00        46\n",
            "         B49       1.00      1.00      1.00        42\n",
            "          B5       1.00      1.00      1.00        43\n",
            "         B50       1.00      1.00      1.00        42\n",
            "         B51       1.00      1.00      1.00        46\n",
            "         B52       1.00      1.00      1.00        42\n",
            "         B53       1.00      0.98      0.99        44\n",
            "         B54       1.00      1.00      1.00        42\n",
            "         B55       1.00      1.00      1.00        40\n",
            "         B56       1.00      1.00      1.00        44\n",
            "         B57       1.00      1.00      1.00        43\n",
            "         B58       1.00      1.00      1.00        84\n",
            "         B59       1.00      1.00      1.00        40\n",
            "          B6       1.00      1.00      1.00        42\n",
            "         B60       1.00      1.00      1.00        42\n",
            "         B61       1.00      0.98      0.99        43\n",
            "         B62       1.00      1.00      1.00        44\n",
            "         B63       1.00      1.00      1.00        44\n",
            "         B64       1.00      1.00      1.00        41\n",
            "         B65       0.97      0.92      0.95        38\n",
            "         B66       1.00      1.00      1.00        39\n",
            "         B67       1.00      1.00      1.00        43\n",
            "         B68       1.00      1.00      1.00        39\n",
            "         B69       0.95      0.98      0.96        42\n",
            "          B7       1.00      1.00      1.00        44\n",
            "         B70       1.00      1.00      1.00        41\n",
            "         B71       1.00      1.00      1.00        43\n",
            "         B72       1.00      1.00      1.00        42\n",
            "         B73       1.00      1.00      1.00        43\n",
            "         B74       1.00      1.00      1.00        39\n",
            "         B75       1.00      1.00      1.00        40\n",
            "         B76       1.00      1.00      1.00        45\n",
            "         B77       1.00      1.00      1.00        38\n",
            "         B78       1.00      1.00      1.00        42\n",
            "         B79       1.00      1.00      1.00        43\n",
            "          B8       1.00      1.00      1.00        43\n",
            "         B80       1.00      1.00      1.00        41\n",
            "          B9       1.00      1.00      1.00        42\n",
            "\n",
            "    accuracy                           0.99      7351\n",
            "   macro avg       0.99      0.99      0.99      7351\n",
            "weighted avg       0.99      0.99      0.99      7351\n",
            "\n"
          ]
        }
      ]
    },
    {
      "cell_type": "code",
      "source": [
        "y_pred_RFC"
      ],
      "metadata": {
        "id": "TUuuYyqrlvoq",
        "colab": {
          "base_uri": "https://localhost:8080/"
        },
        "outputId": "63c6454d-af5b-43b4-cf33-6b0476776cb6"
      },
      "execution_count": null,
      "outputs": [
        {
          "output_type": "execute_result",
          "data": {
            "text/plain": [
              "array([137, 150,  11, ...,  63, 133,  30])"
            ]
          },
          "metadata": {},
          "execution_count": 36
        }
      ]
    },
    {
      "cell_type": "markdown",
      "source": [
        "Prediction for validation dataset, which is splitted from training dataset. (Not the test dataset, that is shown later)"
      ],
      "metadata": {
        "id": "u83OYLmAWCzJ"
      }
    },
    {
      "cell_type": "markdown",
      "source": [
        "# Classification using Xgboost"
      ],
      "metadata": {
        "id": "O5QukjRlbWcc"
      }
    },
    {
      "cell_type": "code",
      "source": [
        "import xgboost as xgb\n",
        "from sklearn.metrics import classification_report, accuracy_score"
      ],
      "metadata": {
        "id": "wQS6OSfYbepp"
      },
      "execution_count": null,
      "outputs": []
    },
    {
      "cell_type": "code",
      "source": [
        "xgb_classifier = xgb.XGBClassifier(objective='multi:softmax', num_class=160, random_state=42)\n",
        "\n",
        "\n",
        "xgb_classifier.fit(X_train_RFC, y_train_RFC)\n",
        "\n",
        "\n",
        "y_pred_Xg = xgb_classifier.predict(X_test_RFC)\n",
        "print(\"Validation Accuracy:\", accuracy_score(y_test_RFC, y_pred_Xg))\n",
        "print(classification_report(y_test_RFC, y_pred_Xg))\n"
      ],
      "metadata": {
        "colab": {
          "base_uri": "https://localhost:8080/"
        },
        "id": "uKUocrQNbem4",
        "outputId": "0bc7e0dc-4b4f-461a-edfa-b884ba8b99a1"
      },
      "execution_count": null,
      "outputs": [
        {
          "output_type": "stream",
          "name": "stdout",
          "text": [
            "Validation Accuracy: 0.9804108284587131\n",
            "              precision    recall  f1-score   support\n",
            "\n",
            "           0       0.91      0.95      0.93        43\n",
            "           1       0.93      0.95      0.94        41\n",
            "           2       1.00      0.98      0.99        42\n",
            "           3       0.98      1.00      0.99        41\n",
            "           4       1.00      1.00      1.00        44\n",
            "           5       0.99      1.00      0.99        84\n",
            "           6       0.98      0.96      0.97        83\n",
            "           7       1.00      0.98      0.99        42\n",
            "           8       1.00      0.90      0.95        41\n",
            "           9       1.00      1.00      1.00        38\n",
            "          10       1.00      1.00      1.00        42\n",
            "          11       1.00      1.00      1.00        41\n",
            "          12       1.00      1.00      1.00        41\n",
            "          13       0.94      0.95      0.95        82\n",
            "          14       1.00      1.00      1.00        42\n",
            "          15       1.00      1.00      1.00        40\n",
            "          16       1.00      1.00      1.00        42\n",
            "          17       0.93      0.93      0.93        85\n",
            "          18       0.98      1.00      0.99        41\n",
            "          19       1.00      1.00      1.00        38\n",
            "          20       0.95      1.00      0.98        41\n",
            "          21       0.94      0.97      0.95        87\n",
            "          22       0.97      0.97      0.97        86\n",
            "          23       0.98      1.00      0.99        42\n",
            "          24       0.95      0.88      0.91        42\n",
            "          25       1.00      1.00      1.00        40\n",
            "          26       0.98      0.99      0.99       127\n",
            "          27       1.00      1.00      1.00        84\n",
            "          28       1.00      1.00      1.00        40\n",
            "          29       1.00      1.00      1.00        41\n",
            "          30       0.99      0.98      0.98        83\n",
            "          31       1.00      1.00      1.00        40\n",
            "          32       0.95      0.93      0.94       127\n",
            "          33       0.97      1.00      0.98        84\n",
            "          34       1.00      0.97      0.99        40\n",
            "          35       0.97      0.89      0.93        44\n",
            "          36       0.98      1.00      0.99        44\n",
            "          37       1.00      1.00      1.00        43\n",
            "          38       0.98      1.00      0.99        43\n",
            "          39       0.95      1.00      0.98        42\n",
            "          40       1.00      1.00      1.00        41\n",
            "          41       1.00      1.00      1.00        43\n",
            "          42       1.00      1.00      1.00        44\n",
            "          43       1.00      0.97      0.99        40\n",
            "          44       0.97      0.81      0.88        42\n",
            "          45       1.00      1.00      1.00        40\n",
            "          46       1.00      0.98      0.99        44\n",
            "          47       1.00      1.00      1.00        39\n",
            "          48       0.98      1.00      0.99        43\n",
            "          49       1.00      1.00      1.00        43\n",
            "          50       1.00      1.00      1.00        41\n",
            "          51       1.00      1.00      1.00        41\n",
            "          52       1.00      0.98      0.99        42\n",
            "          53       1.00      1.00      1.00        39\n",
            "          54       0.98      1.00      0.99        46\n",
            "          55       1.00      1.00      1.00        41\n",
            "          56       1.00      1.00      1.00        39\n",
            "          57       0.56      0.53      0.55        43\n",
            "          58       1.00      1.00      1.00        42\n",
            "          59       1.00      1.00      1.00        43\n",
            "          60       1.00      1.00      1.00        43\n",
            "          61       0.90      0.95      0.93        40\n",
            "          62       0.98      1.00      0.99        41\n",
            "          63       1.00      1.00      1.00        44\n",
            "          64       1.00      1.00      1.00        41\n",
            "          65       0.97      1.00      0.99        38\n",
            "          66       1.00      1.00      1.00        43\n",
            "          67       1.00      1.00      1.00        43\n",
            "          68       1.00      1.00      1.00        39\n",
            "          69       1.00      1.00      1.00        41\n",
            "          70       0.98      0.98      0.98        43\n",
            "          71       0.98      1.00      0.99        43\n",
            "          72       1.00      0.98      0.99        45\n",
            "          73       1.00      1.00      1.00        43\n",
            "          74       0.98      0.94      0.96        48\n",
            "          75       1.00      1.00      1.00        42\n",
            "          76       1.00      1.00      1.00        41\n",
            "          77       1.00      1.00      1.00        42\n",
            "          78       0.98      1.00      0.99        41\n",
            "          79       0.88      0.95      0.91        38\n",
            "          80       1.00      0.98      0.99        42\n",
            "          81       1.00      1.00      1.00        40\n",
            "          82       0.98      1.00      0.99        42\n",
            "          83       1.00      0.95      0.98        42\n",
            "          84       0.98      0.93      0.96        46\n",
            "          85       1.00      1.00      1.00        42\n",
            "          86       1.00      1.00      1.00        40\n",
            "          87       1.00      0.98      0.99        44\n",
            "          88       0.48      0.60      0.53        42\n",
            "          89       0.96      1.00      0.98        43\n",
            "          90       1.00      1.00      1.00        41\n",
            "          91       1.00      1.00      1.00        42\n",
            "          92       1.00      1.00      1.00        42\n",
            "          93       1.00      1.00      1.00        44\n",
            "          94       1.00      1.00      1.00        45\n",
            "          95       1.00      1.00      1.00        42\n",
            "          96       1.00      1.00      1.00        42\n",
            "          97       0.98      0.95      0.96        43\n",
            "          98       1.00      0.98      0.99        42\n",
            "          99       1.00      1.00      1.00        42\n",
            "         100       1.00      1.00      1.00        42\n",
            "         101       0.93      1.00      0.97        43\n",
            "         102       1.00      1.00      1.00        43\n",
            "         103       1.00      1.00      1.00        42\n",
            "         104       1.00      1.00      1.00        43\n",
            "         105       1.00      1.00      1.00        39\n",
            "         106       0.98      1.00      0.99        43\n",
            "         107       1.00      1.00      1.00        43\n",
            "         108       0.98      1.00      0.99        42\n",
            "         109       1.00      1.00      1.00        41\n",
            "         110       1.00      0.98      0.99        42\n",
            "         111       1.00      1.00      1.00        40\n",
            "         112       1.00      1.00      1.00        42\n",
            "         113       0.96      1.00      0.98        45\n",
            "         114       1.00      0.98      0.99        41\n",
            "         115       1.00      1.00      1.00        40\n",
            "         116       1.00      1.00      1.00        43\n",
            "         117       0.98      1.00      0.99        42\n",
            "         118       1.00      1.00      1.00        44\n",
            "         119       0.99      0.98      0.98        86\n",
            "         120       0.98      1.00      0.99        43\n",
            "         121       1.00      1.00      1.00        45\n",
            "         122       1.00      1.00      1.00        46\n",
            "         123       1.00      0.98      0.99        42\n",
            "         124       1.00      1.00      1.00        43\n",
            "         125       1.00      1.00      1.00        42\n",
            "         126       1.00      1.00      1.00        46\n",
            "         127       1.00      1.00      1.00        42\n",
            "         128       0.98      0.98      0.98        44\n",
            "         129       0.98      1.00      0.99        42\n",
            "         130       1.00      1.00      1.00        40\n",
            "         131       1.00      1.00      1.00        44\n",
            "         132       0.95      0.98      0.97        43\n",
            "         133       1.00      1.00      1.00        84\n",
            "         134       1.00      0.97      0.99        40\n",
            "         135       1.00      1.00      1.00        42\n",
            "         136       1.00      0.98      0.99        42\n",
            "         137       1.00      0.88      0.94        43\n",
            "         138       1.00      1.00      1.00        44\n",
            "         139       1.00      1.00      1.00        44\n",
            "         140       0.98      1.00      0.99        41\n",
            "         141       0.95      0.92      0.93        38\n",
            "         142       1.00      1.00      1.00        39\n",
            "         143       1.00      1.00      1.00        43\n",
            "         144       1.00      0.97      0.99        39\n",
            "         145       0.93      1.00      0.97        42\n",
            "         146       1.00      1.00      1.00        44\n",
            "         147       1.00      1.00      1.00        41\n",
            "         148       1.00      1.00      1.00        43\n",
            "         149       1.00      1.00      1.00        42\n",
            "         150       0.98      0.95      0.96        43\n",
            "         151       0.95      0.95      0.95        39\n",
            "         152       1.00      1.00      1.00        40\n",
            "         153       1.00      1.00      1.00        45\n",
            "         154       1.00      0.95      0.97        38\n",
            "         155       1.00      1.00      1.00        42\n",
            "         156       1.00      1.00      1.00        43\n",
            "         157       1.00      0.98      0.99        43\n",
            "         158       1.00      1.00      1.00        41\n",
            "         159       1.00      1.00      1.00        42\n",
            "\n",
            "    accuracy                           0.98      7351\n",
            "   macro avg       0.98      0.98      0.98      7351\n",
            "weighted avg       0.98      0.98      0.98      7351\n",
            "\n"
          ]
        }
      ]
    },
    {
      "cell_type": "markdown",
      "source": [
        "Prediction for validation dataset, which is splitted from training dataset. (Not the test dataset, that is shown later)"
      ],
      "metadata": {
        "id": "8XMU7xJtWRmh"
      }
    },
    {
      "cell_type": "markdown",
      "source": [
        "# Using SMOTE and defining weight parameter for cross entropy loss"
      ],
      "metadata": {
        "id": "hpYOHvUqcPn4"
      }
    },
    {
      "cell_type": "markdown",
      "source": [
        "As our dataset is unbalanced, in order to perform training using neural networks, we will have to handle the imbalance.\n",
        "So, we are using SMOTE library here and also using weights parameter for cross entropy loss."
      ],
      "metadata": {
        "id": "VIzhc-BLgpQH"
      }
    },
    {
      "cell_type": "code",
      "source": [
        "# calculating weights tensor for CrossEntropyLoss\n",
        "from sklearn.utils.class_weight import compute_class_weight\n",
        "class_weights = compute_class_weight(class_weight='balanced', classes=np.unique(y_train_data), y=y_train_data)\n",
        "class_weights_tensor = torch.tensor(class_weights, dtype=torch.float32)"
      ],
      "metadata": {
        "id": "KPt5QrhHupcS"
      },
      "execution_count": null,
      "outputs": []
    },
    {
      "cell_type": "code",
      "source": [
        "from imblearn.over_sampling import SMOTE"
      ],
      "metadata": {
        "id": "X30pMBWBOjgt"
      },
      "execution_count": null,
      "outputs": []
    },
    {
      "cell_type": "code",
      "source": [
        "smote = SMOTE(random_state=42)\n",
        "X_train_resampled, y_train_resampled = smote.fit_resample(X_train_data, y_train_data)"
      ],
      "metadata": {
        "id": "nsM1y5_iOnzw"
      },
      "execution_count": null,
      "outputs": []
    },
    {
      "cell_type": "code",
      "source": [
        "fig,ax = plt.subplots(figsize=(8,4))\n",
        "idx , c = np.unique(y_train_resampled,return_counts=True)\n",
        "sns.barplot(x=idx,y=c,ax=ax)\n",
        "plt.show()"
      ],
      "metadata": {
        "colab": {
          "base_uri": "https://localhost:8080/",
          "height": 368
        },
        "id": "XJI7XB27TCxR",
        "outputId": "78593104-6c08-4526-c380-d6c4d76fbaf4"
      },
      "execution_count": null,
      "outputs": [
        {
          "output_type": "display_data",
          "data": {
            "text/plain": [
              "<Figure size 800x400 with 1 Axes>"
            ],
            "image/png": "[encoded data removed]"
          },
          "metadata": {}
        }
      ]
    },
    {
      "cell_type": "code",
      "source": [
        "X_train_resampled.shape"
      ],
      "metadata": {
        "colab": {
          "base_uri": "https://localhost:8080/"
        },
        "id": "kG38Qqo0O2z_",
        "outputId": "e33d0077-2e24-4d4e-fa8e-5b9f42724fd8"
      },
      "execution_count": null,
      "outputs": [
        {
          "output_type": "execute_result",
          "data": {
            "text/plain": [
              "(101600, 18)"
            ]
          },
          "metadata": {},
          "execution_count": 43
        }
      ]
    },
    {
      "cell_type": "code",
      "source": [
        "y_train_resampled.shape"
      ],
      "metadata": {
        "colab": {
          "base_uri": "https://localhost:8080/"
        },
        "id": "fYzLFeyXPwFw",
        "outputId": "a2d1f9d8-5e70-4bbc-8b1d-2199ca918053"
      },
      "execution_count": null,
      "outputs": [
        {
          "output_type": "execute_result",
          "data": {
            "text/plain": [
              "(101600,)"
            ]
          },
          "metadata": {},
          "execution_count": 44
        }
      ]
    },
    {
      "cell_type": "markdown",
      "source": [
        "Thus, Unbalance is dealt with by SMOTE"
      ],
      "metadata": {
        "id": "J45rXisPPAIS"
      }
    },
    {
      "cell_type": "markdown",
      "source": [
        "# Splitting data"
      ],
      "metadata": {
        "id": "qTca-0GceWJF"
      }
    },
    {
      "cell_type": "code",
      "source": [
        "from sklearn.model_selection import train_test_split"
      ],
      "metadata": {
        "id": "Wn-RVLEjefhz"
      },
      "execution_count": null,
      "outputs": []
    },
    {
      "cell_type": "code",
      "source": [
        "X_train_split, X_val_split, y_train_split, y_val_split = train_test_split(\n",
        "    X_train_resampled, y_train_resampled, test_size=0.2, random_state=42, stratify=y_train_resampled)"
      ],
      "metadata": {
        "id": "qrN-XAqDkbCP"
      },
      "execution_count": null,
      "outputs": []
    },
    {
      "cell_type": "code",
      "source": [
        "print(X_train_split.shape,y_train_split.shape)"
      ],
      "metadata": {
        "colab": {
          "base_uri": "https://localhost:8080/"
        },
        "id": "tSAIupGnlCmd",
        "outputId": "bdf4147c-a0df-4a79-d728-71110109ead3"
      },
      "execution_count": null,
      "outputs": [
        {
          "output_type": "stream",
          "name": "stdout",
          "text": [
            "(81280, 18) (81280,)\n"
          ]
        }
      ]
    },
    {
      "cell_type": "markdown",
      "source": [
        "# Classification using Pytorch layers"
      ],
      "metadata": {
        "id": "n5u7JaqmmD0X"
      }
    },
    {
      "cell_type": "code",
      "source": [
        "import torch"
      ],
      "metadata": {
        "id": "RTu79AThmIoV"
      },
      "execution_count": null,
      "outputs": []
    },
    {
      "cell_type": "code",
      "source": [
        "X_train_tensor = torch.tensor(X_train_split, dtype=torch.float32)\n",
        "y_train_tensor = torch.tensor(y_train_split, dtype=torch.long)\n",
        "X_val_tensor = torch.tensor(X_val_split, dtype=torch.float32)\n",
        "y_val_tensor = torch.tensor(y_val_split, dtype=torch.long)\n",
        "X_test_tensor = torch.tensor(X_test_data, dtype=torch.float32)"
      ],
      "metadata": {
        "id": "m7jQMkrqmI_s"
      },
      "execution_count": null,
      "outputs": []
    },
    {
      "cell_type": "code",
      "source": [
        "X_test_tensor.shape"
      ],
      "metadata": {
        "colab": {
          "base_uri": "https://localhost:8080/"
        },
        "id": "XzuVVCZ_Jk97",
        "outputId": "77157162-42e9-4456-94b5-6ecbcc351d17"
      },
      "execution_count": null,
      "outputs": [
        {
          "output_type": "execute_result",
          "data": {
            "text/plain": [
              "torch.Size([15752, 18])"
            ]
          },
          "metadata": {},
          "execution_count": 50
        }
      ]
    },
    {
      "cell_type": "code",
      "source": [
        "X_train_tensor.shape"
      ],
      "metadata": {
        "colab": {
          "base_uri": "https://localhost:8080/"
        },
        "id": "IcAejX-VJnQu",
        "outputId": "763d03ba-5ccb-487c-e221-13fb07426fba"
      },
      "execution_count": null,
      "outputs": [
        {
          "output_type": "execute_result",
          "data": {
            "text/plain": [
              "torch.Size([81280, 18])"
            ]
          },
          "metadata": {},
          "execution_count": 51
        }
      ]
    },
    {
      "cell_type": "code",
      "source": [
        "X_train_tensor"
      ],
      "metadata": {
        "colab": {
          "base_uri": "https://localhost:8080/"
        },
        "id": "4TkBU6Rfoytb",
        "outputId": "cdb6e527-5c85-4c0d-f065-d964ef1d1ccd"
      },
      "execution_count": null,
      "outputs": [
        {
          "output_type": "execute_result",
          "data": {
            "text/plain": [
              "tensor([[ 1.2436,  0.9560,  0.2648,  ..., -2.9281, -0.0501, -0.0778],\n",
              "        [ 0.2135, -0.5023, -0.0522,  ..., -0.0819, -0.4060, -1.2650],\n",
              "        [-1.4705, -0.5184, -0.2799,  ...,  0.1078, -0.0231, -0.2138],\n",
              "        ...,\n",
              "        [ 1.7014, -0.1658, -1.4011,  ..., -0.0819, -1.6967, -0.8876],\n",
              "        [-1.7236, -0.5023, -0.2882,  ...,  0.1078, -0.2992,  0.0486],\n",
              "        [-1.4419,  0.2829,  0.4383,  ...,  0.2976, -0.2074, -0.3654]])"
            ]
          },
          "metadata": {},
          "execution_count": 54
        }
      ]
    },
    {
      "cell_type": "code",
      "source": [
        "X_train_tensor.shape"
      ],
      "metadata": {
        "colab": {
          "base_uri": "https://localhost:8080/"
        },
        "id": "-Okgxouso1m7",
        "outputId": "f4b40e5e-fe1f-4041-b451-663b12335015"
      },
      "execution_count": null,
      "outputs": [
        {
          "output_type": "execute_result",
          "data": {
            "text/plain": [
              "torch.Size([81280, 18])"
            ]
          },
          "metadata": {},
          "execution_count": 55
        }
      ]
    },
    {
      "cell_type": "code",
      "source": [
        "import torch.nn as nn\n",
        "import torch.optim as optim\n",
        "from sklearn.metrics import f1_score\n",
        "from sklearn.metrics import precision_score\n",
        "from sklearn.metrics import accuracy_score"
      ],
      "metadata": {
        "id": "WErwlVTgn3Zq"
      },
      "execution_count": null,
      "outputs": []
    },
    {
      "cell_type": "code",
      "source": [
        "# 1 hidden layer : 128 64, Nonlinearity introduced by ReLU and Dropout used to prevent overfitting"
      ],
      "metadata": {
        "id": "FBKi4Funowtq"
      },
      "execution_count": null,
      "outputs": []
    },
    {
      "cell_type": "code",
      "source": [
        "class classification_NN(nn.Module):\n",
        "  def __init__(self):\n",
        "    super().__init__()\n",
        "    self.layer1 = nn.Linear(in_features = 18,out_features=128)\n",
        "    self.layer2 = nn.Linear(in_features = 128,out_features=64)\n",
        "    self.layer3 = nn.Linear(in_features = 64,out_features=160)\n",
        "    self.relu = nn.ReLU()\n",
        "    self.dropout = nn.Dropout(0.5)\n",
        "\n",
        "  def forward(self,x):\n",
        "    x = self.relu(self.layer1(x))\n",
        "    x = self.dropout(x)\n",
        "    x = self.relu(self.layer2(x))\n",
        "    x = self.dropout(x)\n",
        "    x = self.layer3(x)\n",
        "    return x"
      ],
      "metadata": {
        "id": "Erf-5te2nuEx"
      },
      "execution_count": null,
      "outputs": []
    },
    {
      "cell_type": "code",
      "source": [
        "# pip install torch-summary"
      ],
      "metadata": {
        "id": "C08ehl789rDz"
      },
      "execution_count": null,
      "outputs": []
    },
    {
      "cell_type": "code",
      "source": [
        "model_1 = classification_NN()"
      ],
      "metadata": {
        "id": "dtSFReV0mI4d"
      },
      "execution_count": null,
      "outputs": []
    },
    {
      "cell_type": "code",
      "source": [
        "from torchsummary import summary\n",
        "summary(model_1)"
      ],
      "metadata": {
        "colab": {
          "base_uri": "https://localhost:8080/"
        },
        "id": "VWand0ny9heE",
        "outputId": "776ee3fd-b512-44df-f89c-293bd8330996"
      },
      "execution_count": null,
      "outputs": [
        {
          "output_type": "stream",
          "name": "stdout",
          "text": [
            "=================================================================\n",
            "Layer (type:depth-idx)                   Param #\n",
            "=================================================================\n",
            "├─Linear: 1-1                            2,432\n",
            "├─Linear: 1-2                            8,256\n",
            "├─Linear: 1-3                            10,400\n",
            "├─ReLU: 1-4                              --\n",
            "├─Dropout: 1-5                           --\n",
            "=================================================================\n",
            "Total params: 21,088\n",
            "Trainable params: 21,088\n",
            "Non-trainable params: 0\n",
            "=================================================================\n"
          ]
        },
        {
          "output_type": "execute_result",
          "data": {
            "text/plain": [
              "=================================================================\n",
              "Layer (type:depth-idx)                   Param #\n",
              "=================================================================\n",
              "├─Linear: 1-1                            2,432\n",
              "├─Linear: 1-2                            8,256\n",
              "├─Linear: 1-3                            10,400\n",
              "├─ReLU: 1-4                              --\n",
              "├─Dropout: 1-5                           --\n",
              "=================================================================\n",
              "Total params: 21,088\n",
              "Trainable params: 21,088\n",
              "Non-trainable params: 0\n",
              "================================================================="
            ]
          },
          "metadata": {},
          "execution_count": 61
        }
      ]
    },
    {
      "cell_type": "code",
      "source": [
        "with torch.inference_mode():\n",
        "  y_logit = model_1(X_train_tensor)"
      ],
      "metadata": {
        "id": "TsVuTmFbqs44"
      },
      "execution_count": null,
      "outputs": []
    },
    {
      "cell_type": "code",
      "source": [
        "y_logit"
      ],
      "metadata": {
        "colab": {
          "base_uri": "https://localhost:8080/"
        },
        "id": "hhTSp4sSrQcX",
        "outputId": "e7eb2233-526e-448b-d1af-20dd5a9e64d0"
      },
      "execution_count": null,
      "outputs": [
        {
          "output_type": "execute_result",
          "data": {
            "text/plain": [
              "tensor([[ 0.0519,  0.0621, -0.0589,  ...,  0.0101,  0.0281,  0.0321],\n",
              "        [-0.0120, -0.0711, -0.0477,  ...,  0.0894,  0.0547, -0.0521],\n",
              "        [-0.0162, -0.1096, -0.1698,  ...,  0.0482,  0.1113, -0.0387],\n",
              "        ...,\n",
              "        [ 0.0886, -0.0155, -0.0170,  ...,  0.0738,  0.0460, -0.0401],\n",
              "        [-0.0084, -0.1074, -0.1816,  ...,  0.0453,  0.1134, -0.0332],\n",
              "        [ 0.0125, -0.0478, -0.0760,  ...,  0.0545,  0.0210, -0.0305]])"
            ]
          },
          "metadata": {},
          "execution_count": 63
        }
      ]
    },
    {
      "cell_type": "markdown",
      "source": [
        "We want to make logits and original labelled data of same shape and introduce nonlinearity, so that shape error does not occur while calculating accuracy and loss"
      ],
      "metadata": {
        "id": "uNpzqc-Qvi1a"
      }
    },
    {
      "cell_type": "code",
      "source": [
        "y_preds = torch.softmax(y_logit,dim=1)\n",
        "y_preds = torch.argmax(y_preds,dim=1)"
      ],
      "metadata": {
        "id": "zuQ7v3xErXTv"
      },
      "execution_count": null,
      "outputs": []
    },
    {
      "cell_type": "code",
      "source": [
        "y_preds"
      ],
      "metadata": {
        "colab": {
          "base_uri": "https://localhost:8080/"
        },
        "id": "1FCe40Eove4w",
        "outputId": "0466e5ea-1b9b-4d82-ff71-59f667fd198f"
      },
      "execution_count": null,
      "outputs": [
        {
          "output_type": "execute_result",
          "data": {
            "text/plain": [
              "tensor([ 43,  87, 109,  ...,  43,  16,  83])"
            ]
          },
          "metadata": {},
          "execution_count": 65
        }
      ]
    },
    {
      "cell_type": "code",
      "source": [
        "lossfn = nn.CrossEntropyLoss(weight = class_weights_tensor)\n",
        "# optimizer = optim.Adam(\n",
        "#     [\n",
        "#         {\"params\": model_1.layer1.parameters(), \"lr\": 0.001},\n",
        "#         {\"params\": model_1.layer2.parameters(),\"lr\": 0.01},\n",
        "#         {\"params\": model_1.layer3.parameters(), \"lr\": 0.1},\n",
        "#     ],\n",
        "#     lr=0.01,\n",
        "# )\n",
        "# Tried this did not work\n",
        "\n",
        "optimizer = optim.Adam(model_1.parameters(),lr = 0.01)"
      ],
      "metadata": {
        "id": "UGtUQH9JxxRV"
      },
      "execution_count": null,
      "outputs": []
    },
    {
      "cell_type": "markdown",
      "source": [
        "Adam optimizer works best for this dataset , SGD does not seem to work"
      ],
      "metadata": {
        "id": "hygrruSIRmyo"
      }
    },
    {
      "cell_type": "code",
      "source": [
        "# Training loop\n",
        "epochs = 300\n",
        "for epoch in range(epochs):\n",
        "  model_1.train()\n",
        "  y_logit = model_1(X_train_tensor)\n",
        "  y_preds = torch.softmax(y_logit,dim=1)\n",
        "  y_preds = torch.argmax(y_preds,dim=1)\n",
        "  loss = lossfn(y_logit,y_train_tensor)\n",
        "  acc = accuracy_score(y_true = y_train_tensor,y_pred = y_preds)\n",
        "\n",
        "  optimizer.zero_grad()\n",
        "\n",
        "  loss.backward()\n",
        "\n",
        "  optimizer.step()\n",
        "\n",
        "  model_1.eval()\n",
        "  with torch.inference_mode():\n",
        "    val_logits = model_1(X_val_tensor)\n",
        "    val_preds = torch.softmax(val_logits,dim=1)\n",
        "    val_preds = torch.argmax(val_preds,dim=1)\n",
        "    val_loss = lossfn(val_logits,y_val_tensor)\n",
        "    val_acc = accuracy_score(y_true = y_val_tensor,y_pred = val_preds)\n",
        "\n",
        "  if epoch % 10 == 0:\n",
        "    print(f\"Epoch: {epoch} | Loss: {loss:.5f}, Accuracy: {acc:.2f} | Val loss: {val_loss:.5f}, Val acc: {val_acc:.2f}\")\n",
        "\n",
        "\n"
      ],
      "metadata": {
        "colab": {
          "base_uri": "https://localhost:8080/"
        },
        "id": "yf9yg3y_raw-",
        "outputId": "8c31d719-f5a9-4b50-92a6-c35f86735ad9"
      },
      "execution_count": null,
      "outputs": [
        {
          "output_type": "stream",
          "name": "stdout",
          "text": [
            "Epoch: 0 | Loss: 5.09447, Accuracy: 0.01 | Val loss: 4.98305, Val acc: 0.06\n",
            "Epoch: 10 | Loss: 3.16860, Accuracy: 0.20 | Val loss: 2.29595, Val acc: 0.76\n",
            "Epoch: 20 | Loss: 1.61945, Accuracy: 0.53 | Val loss: 0.56942, Val acc: 0.91\n",
            "Epoch: 30 | Loss: 1.01472, Accuracy: 0.70 | Val loss: 0.24993, Val acc: 0.95\n",
            "Epoch: 40 | Loss: 0.79769, Accuracy: 0.76 | Val loss: 0.17134, Val acc: 0.95\n",
            "Epoch: 50 | Loss: 0.68013, Accuracy: 0.79 | Val loss: 0.13614, Val acc: 0.96\n",
            "Epoch: 60 | Loss: 0.60423, Accuracy: 0.81 | Val loss: 0.11889, Val acc: 0.96\n",
            "Epoch: 70 | Loss: 0.55818, Accuracy: 0.83 | Val loss: 0.10811, Val acc: 0.96\n",
            "Epoch: 80 | Loss: 0.52273, Accuracy: 0.84 | Val loss: 0.09976, Val acc: 0.97\n",
            "Epoch: 90 | Loss: 0.50111, Accuracy: 0.85 | Val loss: 0.09450, Val acc: 0.97\n",
            "Epoch: 100 | Loss: 0.48004, Accuracy: 0.85 | Val loss: 0.09024, Val acc: 0.97\n",
            "Epoch: 110 | Loss: 0.45417, Accuracy: 0.86 | Val loss: 0.08698, Val acc: 0.97\n",
            "Epoch: 120 | Loss: 0.43822, Accuracy: 0.86 | Val loss: 0.08429, Val acc: 0.97\n",
            "Epoch: 130 | Loss: 0.42672, Accuracy: 0.87 | Val loss: 0.08130, Val acc: 0.97\n",
            "Epoch: 140 | Loss: 0.41187, Accuracy: 0.87 | Val loss: 0.07858, Val acc: 0.97\n",
            "Epoch: 150 | Loss: 0.40406, Accuracy: 0.87 | Val loss: 0.07651, Val acc: 0.97\n",
            "Epoch: 160 | Loss: 0.39150, Accuracy: 0.88 | Val loss: 0.07492, Val acc: 0.97\n",
            "Epoch: 170 | Loss: 0.37785, Accuracy: 0.88 | Val loss: 0.07313, Val acc: 0.97\n",
            "Epoch: 180 | Loss: 0.36890, Accuracy: 0.88 | Val loss: 0.07131, Val acc: 0.97\n",
            "Epoch: 190 | Loss: 0.36076, Accuracy: 0.89 | Val loss: 0.06999, Val acc: 0.97\n",
            "Epoch: 200 | Loss: 0.35843, Accuracy: 0.89 | Val loss: 0.06922, Val acc: 0.97\n",
            "Epoch: 210 | Loss: 0.34797, Accuracy: 0.89 | Val loss: 0.06730, Val acc: 0.97\n",
            "Epoch: 220 | Loss: 0.33944, Accuracy: 0.89 | Val loss: 0.06668, Val acc: 0.98\n",
            "Epoch: 230 | Loss: 0.33598, Accuracy: 0.89 | Val loss: 0.06551, Val acc: 0.98\n",
            "Epoch: 240 | Loss: 0.33294, Accuracy: 0.89 | Val loss: 0.06400, Val acc: 0.98\n",
            "Epoch: 250 | Loss: 0.31807, Accuracy: 0.90 | Val loss: 0.06363, Val acc: 0.98\n",
            "Epoch: 260 | Loss: 0.31747, Accuracy: 0.90 | Val loss: 0.06198, Val acc: 0.98\n",
            "Epoch: 270 | Loss: 0.30933, Accuracy: 0.90 | Val loss: 0.06168, Val acc: 0.98\n",
            "Epoch: 280 | Loss: 0.30463, Accuracy: 0.90 | Val loss: 0.06140, Val acc: 0.98\n",
            "Epoch: 290 | Loss: 0.30365, Accuracy: 0.90 | Val loss: 0.06054, Val acc: 0.98\n"
          ]
        }
      ]
    },
    {
      "cell_type": "markdown",
      "source": [
        "Thus, Model_1 was trained on training accuracy= 90%\n",
        "ans Validation_accuracy = 98%\n",
        "\n",
        "To increase training accuracy more, number of layers in Model Architecture , can be increased\n",
        "\n",
        "F1 score, Precision and Recall evaluation metrics can also be used. But as dataset is made balanced by SMOTE. I am using plain accuracy.\n",
        "\n",
        "Adam was observed to be more efficient than SGD\n",
        "Best accuracy was obtained at lr = 0.01"
      ],
      "metadata": {
        "id": "OnTEq83C-egO"
      }
    },
    {
      "cell_type": "code",
      "source": [
        "val_preds.shape"
      ],
      "metadata": {
        "colab": {
          "base_uri": "https://localhost:8080/"
        },
        "id": "G5OOrLLNro8h",
        "outputId": "d77c3368-5ffd-48b1-ce0c-1a88d52e0b98"
      },
      "execution_count": null,
      "outputs": [
        {
          "output_type": "execute_result",
          "data": {
            "text/plain": [
              "torch.Size([20320])"
            ]
          },
          "metadata": {},
          "execution_count": 69
        }
      ]
    },
    {
      "cell_type": "code",
      "source": [
        "print(y_val_tensor)"
      ],
      "metadata": {
        "colab": {
          "base_uri": "https://localhost:8080/"
        },
        "id": "cTXOLZlysUV9",
        "outputId": "a358b8e0-60a1-40b9-e7eb-eca75df0b798"
      },
      "execution_count": null,
      "outputs": [
        {
          "output_type": "stream",
          "name": "stdout",
          "text": [
            "tensor([138,  26,  22,  ..., 123,   6,  29])\n"
          ]
        }
      ]
    },
    {
      "cell_type": "code",
      "source": [
        "print(val_preds)"
      ],
      "metadata": {
        "colab": {
          "base_uri": "https://localhost:8080/"
        },
        "id": "GeYficQksA25",
        "outputId": "7482216d-6929-442b-cfba-ee780de75317"
      },
      "execution_count": null,
      "outputs": [
        {
          "output_type": "stream",
          "name": "stdout",
          "text": [
            "tensor([138,  26,  22,  ..., 123,   6,  29])\n"
          ]
        }
      ]
    },
    {
      "cell_type": "code",
      "source": [
        "for i in range(200):\n",
        "  if(y_val_tensor[i]== val_preds[i]):\n",
        "    print(\"true\")\n",
        "  else:\n",
        "    print(\"false\")\n"
      ],
      "metadata": {
        "id": "RxxEKZtGL4UZ",
        "colab": {
          "base_uri": "https://localhost:8080/"
        },
        "outputId": "a7dbbe2b-cb27-4acd-c561-616e1804323a"
      },
      "execution_count": null,
      "outputs": [
        {
          "output_type": "stream",
          "name": "stdout",
          "text": [
            "true\n",
            "true\n",
            "true\n",
            "true\n",
            "true\n",
            "true\n",
            "true\n",
            "true\n",
            "true\n",
            "true\n",
            "true\n",
            "true\n",
            "true\n",
            "true\n",
            "true\n",
            "true\n",
            "true\n",
            "true\n",
            "true\n",
            "true\n",
            "true\n",
            "true\n",
            "true\n",
            "true\n",
            "true\n",
            "true\n",
            "true\n",
            "true\n",
            "true\n",
            "true\n",
            "true\n",
            "true\n",
            "true\n",
            "true\n",
            "true\n",
            "true\n",
            "true\n",
            "true\n",
            "true\n",
            "true\n",
            "true\n",
            "true\n",
            "true\n",
            "true\n",
            "true\n",
            "true\n",
            "true\n",
            "true\n",
            "true\n",
            "true\n",
            "true\n",
            "true\n",
            "true\n",
            "true\n",
            "true\n",
            "true\n",
            "true\n",
            "true\n",
            "true\n",
            "true\n",
            "true\n",
            "false\n",
            "true\n",
            "true\n",
            "true\n",
            "true\n",
            "true\n",
            "true\n",
            "true\n",
            "true\n",
            "true\n",
            "true\n",
            "true\n",
            "true\n",
            "true\n",
            "true\n",
            "true\n",
            "true\n",
            "true\n",
            "true\n",
            "true\n",
            "true\n",
            "true\n",
            "true\n",
            "true\n",
            "true\n",
            "true\n",
            "true\n",
            "true\n",
            "true\n",
            "true\n",
            "true\n",
            "true\n",
            "true\n",
            "true\n",
            "true\n",
            "true\n",
            "true\n",
            "true\n",
            "true\n",
            "true\n",
            "true\n",
            "true\n",
            "true\n",
            "true\n",
            "true\n",
            "true\n",
            "true\n",
            "true\n",
            "true\n",
            "true\n",
            "true\n",
            "true\n",
            "true\n",
            "true\n",
            "true\n",
            "true\n",
            "true\n",
            "true\n",
            "true\n",
            "false\n",
            "true\n",
            "true\n",
            "true\n",
            "true\n",
            "true\n",
            "true\n",
            "true\n",
            "false\n",
            "true\n",
            "true\n",
            "true\n",
            "true\n",
            "true\n",
            "true\n",
            "true\n",
            "true\n",
            "true\n",
            "true\n",
            "true\n",
            "true\n",
            "true\n",
            "true\n",
            "true\n",
            "true\n",
            "true\n",
            "true\n",
            "true\n",
            "true\n",
            "true\n",
            "true\n",
            "true\n",
            "true\n",
            "true\n",
            "false\n",
            "true\n",
            "true\n",
            "true\n",
            "true\n",
            "true\n",
            "true\n",
            "true\n",
            "true\n",
            "true\n",
            "true\n",
            "true\n",
            "true\n",
            "true\n",
            "true\n",
            "true\n",
            "true\n",
            "true\n",
            "true\n",
            "true\n",
            "true\n",
            "true\n",
            "true\n",
            "true\n",
            "true\n",
            "true\n",
            "true\n",
            "true\n",
            "true\n",
            "true\n",
            "true\n",
            "true\n",
            "true\n",
            "true\n",
            "true\n",
            "true\n",
            "true\n",
            "true\n",
            "true\n",
            "true\n",
            "true\n",
            "true\n",
            "true\n",
            "true\n",
            "true\n",
            "true\n"
          ]
        }
      ]
    },
    {
      "cell_type": "markdown",
      "source": [
        "Model_1 predicts almost all values perfectly"
      ],
      "metadata": {
        "id": "1rtZLA6J_Rol"
      }
    },
    {
      "cell_type": "markdown",
      "source": [
        "# Saving Model_1"
      ],
      "metadata": {
        "id": "-ylg3Fxb_bD5"
      }
    },
    {
      "cell_type": "code",
      "source": [
        "from pathlib import Path\n",
        "MODEL_PATH = Path(\"models\")\n",
        "MODEL_PATH.mkdir(parents=True,exist_ok=True)\n",
        "\n",
        "MODEL_NAME = 'model_1.pth'\n",
        "MODEL_SAVE_PATH = MODEL_PATH/MODEL_NAME\n",
        "torch.save({\n",
        "    'model_state_dict': model_1.state_dict(),\n",
        "    'optimizer_state_dict': optimizer.state_dict()\n",
        "}, MODEL_SAVE_PATH)\n"
      ],
      "metadata": {
        "id": "VIUILLF__sNq"
      },
      "execution_count": null,
      "outputs": []
    },
    {
      "cell_type": "markdown",
      "source": [
        "# Testing on test.xlsx file and merging output column on it"
      ],
      "metadata": {
        "id": "vKNQv0vQ_srv"
      }
    },
    {
      "cell_type": "code",
      "source": [
        "with torch.inference_mode():\n",
        "    test_logits = model_1(X_test_tensor)\n",
        "    test_preds = torch.softmax(test_logits,dim=1)\n",
        "    test_preds = torch.argmax(test_preds,dim=1)"
      ],
      "metadata": {
        "id": "27RJc9X03BD8"
      },
      "execution_count": null,
      "outputs": []
    },
    {
      "cell_type": "code",
      "source": [
        "test_preds"
      ],
      "metadata": {
        "id": "aEh1q3ICJcBO",
        "colab": {
          "base_uri": "https://localhost:8080/"
        },
        "outputId": "ae7d81ec-9428-44cd-ac48-0db3b4f79563"
      },
      "execution_count": null,
      "outputs": [
        {
          "output_type": "execute_result",
          "data": {
            "text/plain": [
              "tensor([151,   1, 141,  ..., 145,  31,  78])"
            ]
          },
          "metadata": {},
          "execution_count": 93
        }
      ]
    },
    {
      "cell_type": "code",
      "source": [
        "test_data"
      ],
      "metadata": {
        "id": "mIrQj4pRLkKA",
        "colab": {
          "base_uri": "https://localhost:8080/",
          "height": 423
        },
        "outputId": "b3901772-461c-44ca-9557-823e0f12e5b2"
      },
      "execution_count": null,
      "outputs": [
        {
          "output_type": "execute_result",
          "data": {
            "text/plain": [
              "       T1  T2  T3  T4  T5  T6  T7  T8  T9  T10  T11  T12  T13  T14  T15  T16  \\\n",
              "0     -76 -83 -70 -66 -64 -72 -64 -69 -60  -76  -83  -78  -81  -81  -81  -70   \n",
              "1     -58 -57 -78 -81 -73 -73 -78 -78 -82  -49  -55  -58  -66  -79  -72  -83   \n",
              "2     -70 -70 -71 -69 -69 -68 -61 -55 -53  -82  -87  -76  -68  -57  -64  -75   \n",
              "3     -71 -61 -56 -56 -61 -60 -68 -66 -72  -58  -55  -56  -58  -62  -61  -59   \n",
              "4     -72 -71 -64 -69 -64 -63 -61 -42 -55  -61  -69  -67  -63  -63  -55  -49   \n",
              "...    ..  ..  ..  ..  ..  ..  ..  ..  ..  ...  ...  ...  ...  ...  ...  ...   \n",
              "15747 -64 -68 -64 -67 -66 -53 -61 -51 -44  -76  -64  -62  -68  -60  -58  -54   \n",
              "15748 -57 -46 -64 -55 -56 -54 -70 -64 -63  -51  -56  -58  -60  -61  -61  -62   \n",
              "15749 -76 -67 -69 -71 -68 -70 -57 -57 -59  -76  -85  -72  -67  -58  -66  -66   \n",
              "15750 -69 -78 -65 -65 -38 -55 -66 -66 -76  -64  -64  -66  -55  -60  -55  -64   \n",
              "15751 -74 -68 -70 -80 -66 -61 -68 -62 -49  -79  -82  -71  -68  -74  -61  -57   \n",
              "\n",
              "       T17  T18  \n",
              "0      -60  -60  \n",
              "1      -74  -80  \n",
              "2      -57  -70  \n",
              "3      -64  -65  \n",
              "4      -49  -57  \n",
              "...    ...  ...  \n",
              "15747  -48  -51  \n",
              "15748  -62  -64  \n",
              "15749  -55  -54  \n",
              "15750  -66  -69  \n",
              "15751  -52  -56  \n",
              "\n",
              "[15752 rows x 18 columns]"
            ],
            "text/html": [
              "\n",
              "  <div id=\"df-b70bc0e5-e7d8-4649-ab48-449b477fff19\" class=\"colab-df-container\">\n",
              "    <div>\n",
              "<style scoped>\n",
              "    .dataframe tbody tr th:only-of-type {\n",
              "        vertical-align: middle;\n",
              "    }\n",
              "\n",
              "    .dataframe tbody tr th {\n",
              "        vertical-align: top;\n",
              "    }\n",
              "\n",
              "    .dataframe thead th {\n",
              "        text-align: right;\n",
              "    }\n",
              "</style>\n",
              "<table border=\"1\" class=\"dataframe\">\n",
              "  <thead>\n",
              "    <tr style=\"text-align: right;\">\n",
              "      <th></th>\n",
              "      <th>T1</th>\n",
              "      <th>T2</th>\n",
              "      <th>T3</th>\n",
              "      <th>T4</th>\n",
              "      <th>T5</th>\n",
              "      <th>T6</th>\n",
              "      <th>T7</th>\n",
              "      <th>T8</th>\n",
              "      <th>T9</th>\n",
              "      <th>T10</th>\n",
              "      <th>T11</th>\n",
              "      <th>T12</th>\n",
              "      <th>T13</th>\n",
              "      <th>T14</th>\n",
              "      <th>T15</th>\n",
              "      <th>T16</th>\n",
              "      <th>T17</th>\n",
              "      <th>T18</th>\n",
              "    </tr>\n",
              "  </thead>\n",
              "  <tbody>\n",
              "    <tr>\n",
              "      <th>0</th>\n",
              "      <td>-76</td>\n",
              "      <td>-83</td>\n",
              "      <td>-70</td>\n",
              "      <td>-66</td>\n",
              "      <td>-64</td>\n",
              "      <td>-72</td>\n",
              "      <td>-64</td>\n",
              "      <td>-69</td>\n",
              "      <td>-60</td>\n",
              "      <td>-76</td>\n",
              "      <td>-83</td>\n",
              "      <td>-78</td>\n",
              "      <td>-81</td>\n",
              "      <td>-81</td>\n",
              "      <td>-81</td>\n",
              "      <td>-70</td>\n",
              "      <td>-60</td>\n",
              "      <td>-60</td>\n",
              "    </tr>\n",
              "    <tr>\n",
              "      <th>1</th>\n",
              "      <td>-58</td>\n",
              "      <td>-57</td>\n",
              "      <td>-78</td>\n",
              "      <td>-81</td>\n",
              "      <td>-73</td>\n",
              "      <td>-73</td>\n",
              "      <td>-78</td>\n",
              "      <td>-78</td>\n",
              "      <td>-82</td>\n",
              "      <td>-49</td>\n",
              "      <td>-55</td>\n",
              "      <td>-58</td>\n",
              "      <td>-66</td>\n",
              "      <td>-79</td>\n",
              "      <td>-72</td>\n",
              "      <td>-83</td>\n",
              "      <td>-74</td>\n",
              "      <td>-80</td>\n",
              "    </tr>\n",
              "    <tr>\n",
              "      <th>2</th>\n",
              "      <td>-70</td>\n",
              "      <td>-70</td>\n",
              "      <td>-71</td>\n",
              "      <td>-69</td>\n",
              "      <td>-69</td>\n",
              "      <td>-68</td>\n",
              "      <td>-61</td>\n",
              "      <td>-55</td>\n",
              "      <td>-53</td>\n",
              "      <td>-82</td>\n",
              "      <td>-87</td>\n",
              "      <td>-76</td>\n",
              "      <td>-68</td>\n",
              "      <td>-57</td>\n",
              "      <td>-64</td>\n",
              "      <td>-75</td>\n",
              "      <td>-57</td>\n",
              "      <td>-70</td>\n",
              "    </tr>\n",
              "    <tr>\n",
              "      <th>3</th>\n",
              "      <td>-71</td>\n",
              "      <td>-61</td>\n",
              "      <td>-56</td>\n",
              "      <td>-56</td>\n",
              "      <td>-61</td>\n",
              "      <td>-60</td>\n",
              "      <td>-68</td>\n",
              "      <td>-66</td>\n",
              "      <td>-72</td>\n",
              "      <td>-58</td>\n",
              "      <td>-55</td>\n",
              "      <td>-56</td>\n",
              "      <td>-58</td>\n",
              "      <td>-62</td>\n",
              "      <td>-61</td>\n",
              "      <td>-59</td>\n",
              "      <td>-64</td>\n",
              "      <td>-65</td>\n",
              "    </tr>\n",
              "    <tr>\n",
              "      <th>4</th>\n",
              "      <td>-72</td>\n",
              "      <td>-71</td>\n",
              "      <td>-64</td>\n",
              "      <td>-69</td>\n",
              "      <td>-64</td>\n",
              "      <td>-63</td>\n",
              "      <td>-61</td>\n",
              "      <td>-42</td>\n",
              "      <td>-55</td>\n",
              "      <td>-61</td>\n",
              "      <td>-69</td>\n",
              "      <td>-67</td>\n",
              "      <td>-63</td>\n",
              "      <td>-63</td>\n",
              "      <td>-55</td>\n",
              "      <td>-49</td>\n",
              "      <td>-49</td>\n",
              "      <td>-57</td>\n",
              "    </tr>\n",
              "    <tr>\n",
              "      <th>...</th>\n",
              "      <td>...</td>\n",
              "      <td>...</td>\n",
              "      <td>...</td>\n",
              "      <td>...</td>\n",
              "      <td>...</td>\n",
              "      <td>...</td>\n",
              "      <td>...</td>\n",
              "      <td>...</td>\n",
              "      <td>...</td>\n",
              "      <td>...</td>\n",
              "      <td>...</td>\n",
              "      <td>...</td>\n",
              "      <td>...</td>\n",
              "      <td>...</td>\n",
              "      <td>...</td>\n",
              "      <td>...</td>\n",
              "      <td>...</td>\n",
              "      <td>...</td>\n",
              "    </tr>\n",
              "    <tr>\n",
              "      <th>15747</th>\n",
              "      <td>-64</td>\n",
              "      <td>-68</td>\n",
              "      <td>-64</td>\n",
              "      <td>-67</td>\n",
              "      <td>-66</td>\n",
              "      <td>-53</td>\n",
              "      <td>-61</td>\n",
              "      <td>-51</td>\n",
              "      <td>-44</td>\n",
              "      <td>-76</td>\n",
              "      <td>-64</td>\n",
              "      <td>-62</td>\n",
              "      <td>-68</td>\n",
              "      <td>-60</td>\n",
              "      <td>-58</td>\n",
              "      <td>-54</td>\n",
              "      <td>-48</td>\n",
              "      <td>-51</td>\n",
              "    </tr>\n",
              "    <tr>\n",
              "      <th>15748</th>\n",
              "      <td>-57</td>\n",
              "      <td>-46</td>\n",
              "      <td>-64</td>\n",
              "      <td>-55</td>\n",
              "      <td>-56</td>\n",
              "      <td>-54</td>\n",
              "      <td>-70</td>\n",
              "      <td>-64</td>\n",
              "      <td>-63</td>\n",
              "      <td>-51</td>\n",
              "      <td>-56</td>\n",
              "      <td>-58</td>\n",
              "      <td>-60</td>\n",
              "      <td>-61</td>\n",
              "      <td>-61</td>\n",
              "      <td>-62</td>\n",
              "      <td>-62</td>\n",
              "      <td>-64</td>\n",
              "    </tr>\n",
              "    <tr>\n",
              "      <th>15749</th>\n",
              "      <td>-76</td>\n",
              "      <td>-67</td>\n",
              "      <td>-69</td>\n",
              "      <td>-71</td>\n",
              "      <td>-68</td>\n",
              "      <td>-70</td>\n",
              "      <td>-57</td>\n",
              "      <td>-57</td>\n",
              "      <td>-59</td>\n",
              "      <td>-76</td>\n",
              "      <td>-85</td>\n",
              "      <td>-72</td>\n",
              "      <td>-67</td>\n",
              "      <td>-58</td>\n",
              "      <td>-66</td>\n",
              "      <td>-66</td>\n",
              "      <td>-55</td>\n",
              "      <td>-54</td>\n",
              "    </tr>\n",
              "    <tr>\n",
              "      <th>15750</th>\n",
              "      <td>-69</td>\n",
              "      <td>-78</td>\n",
              "      <td>-65</td>\n",
              "      <td>-65</td>\n",
              "      <td>-38</td>\n",
              "      <td>-55</td>\n",
              "      <td>-66</td>\n",
              "      <td>-66</td>\n",
              "      <td>-76</td>\n",
              "      <td>-64</td>\n",
              "      <td>-64</td>\n",
              "      <td>-66</td>\n",
              "      <td>-55</td>\n",
              "      <td>-60</td>\n",
              "      <td>-55</td>\n",
              "      <td>-64</td>\n",
              "      <td>-66</td>\n",
              "      <td>-69</td>\n",
              "    </tr>\n",
              "    <tr>\n",
              "      <th>15751</th>\n",
              "      <td>-74</td>\n",
              "      <td>-68</td>\n",
              "      <td>-70</td>\n",
              "      <td>-80</td>\n",
              "      <td>-66</td>\n",
              "      <td>-61</td>\n",
              "      <td>-68</td>\n",
              "      <td>-62</td>\n",
              "      <td>-49</td>\n",
              "      <td>-79</td>\n",
              "      <td>-82</td>\n",
              "      <td>-71</td>\n",
              "      <td>-68</td>\n",
              "      <td>-74</td>\n",
              "      <td>-61</td>\n",
              "      <td>-57</td>\n",
              "      <td>-52</td>\n",
              "      <td>-56</td>\n",
              "    </tr>\n",
              "  </tbody>\n",
              "</table>\n",
              "<p>15752 rows × 18 columns</p>\n",
              "</div>\n",
              "    <div class=\"colab-df-buttons\">\n",
              "\n",
              "  <div class=\"colab-df-container\">\n",
              "    <button class=\"colab-df-convert\" onclick=\"convertToInteractive('df-b70bc0e5-e7d8-4649-ab48-449b477fff19')\"\n",
              "            title=\"Convert this dataframe to an interactive table.\"\n",
              "            style=\"display:none;\">\n",
              "\n",
              "  <svg xmlns=\"http://www.w3.org/2000/svg\" height=\"24px\" viewBox=\"0 -960 960 960\">\n",
              "    <path d=\"M120-120v-720h720v720H120Zm60-500h600v-160H180v160Zm220 220h160v-160H400v160Zm0 220h160v-160H400v160ZM180-400h160v-160H180v160Zm440 0h160v-160H620v160ZM180-180h160v-160H180v160Zm440 0h160v-160H620v160Z\"/>\n",
              "  </svg>\n",
              "    </button>\n",
              "\n",
              "  <style>\n",
              "    .colab-df-container {\n",
              "      display:flex;\n",
              "      gap: 12px;\n",
              "    }\n",
              "\n",
              "    .colab-df-convert {\n",
              "      background-color: #E8F0FE;\n",
              "      border: none;\n",
              "      border-radius: 50%;\n",
              "      cursor: pointer;\n",
              "      display: none;\n",
              "      fill: #1967D2;\n",
              "      height: 32px;\n",
              "      padding: 0 0 0 0;\n",
              "      width: 32px;\n",
              "    }\n",
              "\n",
              "    .colab-df-convert:hover {\n",
              "      background-color: #E2EBFA;\n",
              "      box-shadow: 0px 1px 2px rgba(60, 64, 67, 0.3), 0px 1px 3px 1px rgba(60, 64, 67, 0.15);\n",
              "      fill: #174EA6;\n",
              "    }\n",
              "\n",
              "    .colab-df-buttons div {\n",
              "      margin-bottom: 4px;\n",
              "    }\n",
              "\n",
              "    [theme=dark] .colab-df-convert {\n",
              "      background-color: #3B4455;\n",
              "      fill: #D2E3FC;\n",
              "    }\n",
              "\n",
              "    [theme=dark] .colab-df-convert:hover {\n",
              "      background-color: #434B5C;\n",
              "      box-shadow: 0px 1px 3px 1px rgba(0, 0, 0, 0.15);\n",
              "      filter: drop-shadow(0px 1px 2px rgba(0, 0, 0, 0.3));\n",
              "      fill: #FFFFFF;\n",
              "    }\n",
              "  </style>\n",
              "\n",
              "    <script>\n",
              "      const buttonEl =\n",
              "        document.querySelector('#df-b70bc0e5-e7d8-4649-ab48-449b477fff19 button.colab-df-convert');\n",
              "      buttonEl.style.display =\n",
              "        google.colab.kernel.accessAllowed ? 'block' : 'none';\n",
              "\n",
              "      async function convertToInteractive(key) {\n",
              "        const element = document.querySelector('#df-b70bc0e5-e7d8-4649-ab48-449b477fff19');\n",
              "        const dataTable =\n",
              "          await google.colab.kernel.invokeFunction('convertToInteractive',\n",
              "                                                    [key], {});\n",
              "        if (!dataTable) return;\n",
              "\n",
              "        const docLinkHtml = 'Like what you see? Visit the ' +\n",
              "          '<a target=\"_blank\" href=https://colab.research.google.com/notebooks/data_table.ipynb>data table notebook</a>'\n",
              "          + ' to learn more about interactive tables.';\n",
              "        element.innerHTML = '';\n",
              "        dataTable['output_type'] = 'display_data';\n",
              "        await google.colab.output.renderOutput(dataTable, element);\n",
              "        const docLink = document.createElement('div');\n",
              "        docLink.innerHTML = docLinkHtml;\n",
              "        element.appendChild(docLink);\n",
              "      }\n",
              "    </script>\n",
              "  </div>\n",
              "\n",
              "\n",
              "<div id=\"df-77730d72-c3a5-4c2f-83de-ecdd6ac800fd\">\n",
              "  <button class=\"colab-df-quickchart\" onclick=\"quickchart('df-77730d72-c3a5-4c2f-83de-ecdd6ac800fd')\"\n",
              "            title=\"Suggest charts\"\n",
              "            style=\"display:none;\">\n",
              "\n",
              "<svg xmlns=\"http://www.w3.org/2000/svg\" height=\"24px\"viewBox=\"0 0 24 24\"\n",
              "     width=\"24px\">\n",
              "    <g>\n",
              "        <path d=\"M19 3H5c-1.1 0-2 .9-2 2v14c0 1.1.9 2 2 2h14c1.1 0 2-.9 2-2V5c0-1.1-.9-2-2-2zM9 17H7v-7h2v7zm4 0h-2V7h2v10zm4 0h-2v-4h2v4z\"/>\n",
              "    </g>\n",
              "</svg>\n",
              "  </button>\n",
              "\n",
              "<style>\n",
              "  .colab-df-quickchart {\n",
              "      --bg-color: #E8F0FE;\n",
              "      --fill-color: #1967D2;\n",
              "      --hover-bg-color: #E2EBFA;\n",
              "      --hover-fill-color: #174EA6;\n",
              "      --disabled-fill-color: #AAA;\n",
              "      --disabled-bg-color: #DDD;\n",
              "  }\n",
              "\n",
              "  [theme=dark] .colab-df-quickchart {\n",
              "      --bg-color: #3B4455;\n",
              "      --fill-color: #D2E3FC;\n",
              "      --hover-bg-color: #434B5C;\n",
              "      --hover-fill-color: #FFFFFF;\n",
              "      --disabled-bg-color: #3B4455;\n",
              "      --disabled-fill-color: #666;\n",
              "  }\n",
              "\n",
              "  .colab-df-quickchart {\n",
              "    background-color: var(--bg-color);\n",
              "    border: none;\n",
              "    border-radius: 50%;\n",
              "    cursor: pointer;\n",
              "    display: none;\n",
              "    fill: var(--fill-color);\n",
              "    height: 32px;\n",
              "    padding: 0;\n",
              "    width: 32px;\n",
              "  }\n",
              "\n",
              "  .colab-df-quickchart:hover {\n",
              "    background-color: var(--hover-bg-color);\n",
              "    box-shadow: 0 1px 2px rgba(60, 64, 67, 0.3), 0 1px 3px 1px rgba(60, 64, 67, 0.15);\n",
              "    fill: var(--button-hover-fill-color);\n",
              "  }\n",
              "\n",
              "  .colab-df-quickchart-complete:disabled,\n",
              "  .colab-df-quickchart-complete:disabled:hover {\n",
              "    background-color: var(--disabled-bg-color);\n",
              "    fill: var(--disabled-fill-color);\n",
              "    box-shadow: none;\n",
              "  }\n",
              "\n",
              "  .colab-df-spinner {\n",
              "    border: 2px solid var(--fill-color);\n",
              "    border-color: transparent;\n",
              "    border-bottom-color: var(--fill-color);\n",
              "    animation:\n",
              "      spin 1s steps(1) infinite;\n",
              "  }\n",
              "\n",
              "  @keyframes spin {\n",
              "    0% {\n",
              "      border-color: transparent;\n",
              "      border-bottom-color: var(--fill-color);\n",
              "      border-left-color: var(--fill-color);\n",
              "    }\n",
              "    20% {\n",
              "      border-color: transparent;\n",
              "      border-left-color: var(--fill-color);\n",
              "      border-top-color: var(--fill-color);\n",
              "    }\n",
              "    30% {\n",
              "      border-color: transparent;\n",
              "      border-left-color: var(--fill-color);\n",
              "      border-top-color: var(--fill-color);\n",
              "      border-right-color: var(--fill-color);\n",
              "    }\n",
              "    40% {\n",
              "      border-color: transparent;\n",
              "      border-right-color: var(--fill-color);\n",
              "      border-top-color: var(--fill-color);\n",
              "    }\n",
              "    60% {\n",
              "      border-color: transparent;\n",
              "      border-right-color: var(--fill-color);\n",
              "    }\n",
              "    80% {\n",
              "      border-color: transparent;\n",
              "      border-right-color: var(--fill-color);\n",
              "      border-bottom-color: var(--fill-color);\n",
              "    }\n",
              "    90% {\n",
              "      border-color: transparent;\n",
              "      border-bottom-color: var(--fill-color);\n",
              "    }\n",
              "  }\n",
              "</style>\n",
              "\n",
              "  <script>\n",
              "    async function quickchart(key) {\n",
              "      const quickchartButtonEl =\n",
              "        document.querySelector('#' + key + ' button');\n",
              "      quickchartButtonEl.disabled = true;  // To prevent multiple clicks.\n",
              "      quickchartButtonEl.classList.add('colab-df-spinner');\n",
              "      try {\n",
              "        const charts = await google.colab.kernel.invokeFunction(\n",
              "            'suggestCharts', [key], {});\n",
              "      } catch (error) {\n",
              "        console.error('Error during call to suggestCharts:', error);\n",
              "      }\n",
              "      quickchartButtonEl.classList.remove('colab-df-spinner');\n",
              "      quickchartButtonEl.classList.add('colab-df-quickchart-complete');\n",
              "    }\n",
              "    (() => {\n",
              "      let quickchartButtonEl =\n",
              "        document.querySelector('#df-77730d72-c3a5-4c2f-83de-ecdd6ac800fd button');\n",
              "      quickchartButtonEl.style.display =\n",
              "        google.colab.kernel.accessAllowed ? 'block' : 'none';\n",
              "    })();\n",
              "  </script>\n",
              "</div>\n",
              "    </div>\n",
              "  </div>\n"
            ],
            "application/vnd.google.colaboratory.intrinsic+json": {
              "type": "dataframe",
              "variable_name": "test_data",
              "summary": "{\n  \"name\": \"test_data\",\n  \"rows\": 15752,\n  \"fields\": [\n    {\n      \"column\": \"T1\",\n      \"properties\": {\n        \"dtype\": \"number\",\n        \"std\": 8,\n        \"min\": -95,\n        \"max\": -41,\n        \"num_unique_values\": 49,\n        \"samples\": [\n          -82,\n          -86,\n          -45\n        ],\n        \"semantic_type\": \"\",\n        \"description\": \"\"\n      }\n    },\n    {\n      \"column\": \"T2\",\n      \"properties\": {\n        \"dtype\": \"number\",\n        \"std\": 9,\n        \"min\": -95,\n        \"max\": -36,\n        \"num_unique_values\": 54,\n        \"samples\": [\n          -72,\n          -95,\n          -87\n        ],\n        \"semantic_type\": \"\",\n        \"description\": \"\"\n      }\n    },\n    {\n      \"column\": \"T3\",\n      \"properties\": {\n        \"dtype\": \"number\",\n        \"std\": 8,\n        \"min\": -95,\n        \"max\": -42,\n        \"num_unique_values\": 46,\n        \"samples\": [\n          -85,\n          -75,\n          -54\n        ],\n        \"semantic_type\": \"\",\n        \"description\": \"\"\n      }\n    },\n    {\n      \"column\": \"T4\",\n      \"properties\": {\n        \"dtype\": \"number\",\n        \"std\": 8,\n        \"min\": -95,\n        \"max\": -41,\n        \"num_unique_values\": 47,\n        \"samples\": [\n          -57,\n          -83,\n          -71\n        ],\n        \"semantic_type\": \"\",\n        \"description\": \"\"\n      }\n    },\n    {\n      \"column\": \"T5\",\n      \"properties\": {\n        \"dtype\": \"number\",\n        \"std\": 8,\n        \"min\": -95,\n        \"max\": -32,\n        \"num_unique_values\": 47,\n        \"samples\": [\n          -47,\n          -46,\n          -53\n        ],\n        \"semantic_type\": \"\",\n        \"description\": \"\"\n      }\n    },\n    {\n      \"column\": \"T6\",\n      \"properties\": {\n        \"dtype\": \"number\",\n        \"std\": 8,\n        \"min\": -95,\n        \"max\": -39,\n        \"num_unique_values\": 47,\n        \"samples\": [\n          -75,\n          -82,\n          -45\n        ],\n        \"semantic_type\": \"\",\n        \"description\": \"\"\n      }\n    },\n    {\n      \"column\": \"T7\",\n      \"properties\": {\n        \"dtype\": \"number\",\n        \"std\": 9,\n        \"min\": -95,\n        \"max\": -46,\n        \"num_unique_values\": 43,\n        \"samples\": [\n          -57,\n          -52,\n          -59\n        ],\n        \"semantic_type\": \"\",\n        \"description\": \"\"\n      }\n    },\n    {\n      \"column\": \"T8\",\n      \"properties\": {\n        \"dtype\": \"number\",\n        \"std\": 10,\n        \"min\": -95,\n        \"max\": -40,\n        \"num_unique_values\": 50,\n        \"samples\": [\n          -48,\n          -81,\n          -50\n        ],\n        \"semantic_type\": \"\",\n        \"description\": \"\"\n      }\n    },\n    {\n      \"column\": \"T9\",\n      \"properties\": {\n        \"dtype\": \"number\",\n        \"std\": 10,\n        \"min\": -95,\n        \"max\": -39,\n        \"num_unique_values\": 48,\n        \"samples\": [\n          -56,\n          -95,\n          -84\n        ],\n        \"semantic_type\": \"\",\n        \"description\": \"\"\n      }\n    },\n    {\n      \"column\": \"T10\",\n      \"properties\": {\n        \"dtype\": \"number\",\n        \"std\": 10,\n        \"min\": -95,\n        \"max\": -41,\n        \"num_unique_values\": 47,\n        \"samples\": [\n          -50,\n          -44,\n          -77\n        ],\n        \"semantic_type\": \"\",\n        \"description\": \"\"\n      }\n    },\n    {\n      \"column\": \"T11\",\n      \"properties\": {\n        \"dtype\": \"number\",\n        \"std\": 9,\n        \"min\": -95,\n        \"max\": -43,\n        \"num_unique_values\": 48,\n        \"samples\": [\n          -53,\n          -51,\n          -85\n        ],\n        \"semantic_type\": \"\",\n        \"description\": \"\"\n      }\n    },\n    {\n      \"column\": \"T12\",\n      \"properties\": {\n        \"dtype\": \"number\",\n        \"std\": 8,\n        \"min\": -95,\n        \"max\": -43,\n        \"num_unique_values\": 45,\n        \"samples\": [\n          -46,\n          -80,\n          -73\n        ],\n        \"semantic_type\": \"\",\n        \"description\": \"\"\n      }\n    },\n    {\n      \"column\": \"T13\",\n      \"properties\": {\n        \"dtype\": \"number\",\n        \"std\": 8,\n        \"min\": -95,\n        \"max\": -44,\n        \"num_unique_values\": 46,\n        \"samples\": [\n          -47,\n          -76,\n          -85\n        ],\n        \"semantic_type\": \"\",\n        \"description\": \"\"\n      }\n    },\n    {\n      \"column\": \"T14\",\n      \"properties\": {\n        \"dtype\": \"number\",\n        \"std\": 9,\n        \"min\": -95,\n        \"max\": -39,\n        \"num_unique_values\": 47,\n        \"samples\": [\n          -74,\n          -78,\n          -51\n        ],\n        \"semantic_type\": \"\",\n        \"description\": \"\"\n      }\n    },\n    {\n      \"column\": \"T15\",\n      \"properties\": {\n        \"dtype\": \"number\",\n        \"std\": 9,\n        \"min\": -95,\n        \"max\": -38,\n        \"num_unique_values\": 52,\n        \"samples\": [\n          -57,\n          -48,\n          -84\n        ],\n        \"semantic_type\": \"\",\n        \"description\": \"\"\n      }\n    },\n    {\n      \"column\": \"T16\",\n      \"properties\": {\n        \"dtype\": \"number\",\n        \"std\": 10,\n        \"min\": -95,\n        \"max\": -41,\n        \"num_unique_values\": 48,\n        \"samples\": [\n          -72,\n          -80,\n          -50\n        ],\n        \"semantic_type\": \"\",\n        \"description\": \"\"\n      }\n    },\n    {\n      \"column\": \"T17\",\n      \"properties\": {\n        \"dtype\": \"number\",\n        \"std\": 10,\n        \"min\": -95,\n        \"max\": -43,\n        \"num_unique_values\": 47,\n        \"samples\": [\n          -71,\n          -47,\n          -63\n        ],\n        \"semantic_type\": \"\",\n        \"description\": \"\"\n      }\n    },\n    {\n      \"column\": \"T18\",\n      \"properties\": {\n        \"dtype\": \"number\",\n        \"std\": 10,\n        \"min\": -95,\n        \"max\": -39,\n        \"num_unique_values\": 47,\n        \"samples\": [\n          -40,\n          -44,\n          -72\n        ],\n        \"semantic_type\": \"\",\n        \"description\": \"\"\n      }\n    }\n  ]\n}"
            }
          },
          "metadata": {},
          "execution_count": 82
        }
      ]
    },
    {
      "cell_type": "code",
      "source": [
        "test_preds.numpy()"
      ],
      "metadata": {
        "colab": {
          "base_uri": "https://localhost:8080/"
        },
        "id": "nkc0hVkABMG7",
        "outputId": "93332298-a210-4eab-d750-72217d2f15bf"
      },
      "execution_count": null,
      "outputs": [
        {
          "output_type": "execute_result",
          "data": {
            "text/plain": [
              "array([151,   1, 141, ..., 145,  31,  78])"
            ]
          },
          "metadata": {},
          "execution_count": 83
        }
      ]
    },
    {
      "cell_type": "code",
      "source": [
        "out = pd.DataFrame(test_preds.numpy())"
      ],
      "metadata": {
        "id": "GpZPEC7JB2O3"
      },
      "execution_count": null,
      "outputs": []
    },
    {
      "cell_type": "code",
      "source": [
        "test_data['Model_1_output'] = out"
      ],
      "metadata": {
        "id": "DDseNXzYCAhp"
      },
      "execution_count": null,
      "outputs": []
    },
    {
      "cell_type": "code",
      "source": [
        "test_data"
      ],
      "metadata": {
        "colab": {
          "base_uri": "https://localhost:8080/",
          "height": 423
        },
        "id": "8hSG5i23CKUC",
        "outputId": "49e1c2f3-6a94-43df-c49c-368b24a9ea0b"
      },
      "execution_count": null,
      "outputs": [
        {
          "output_type": "execute_result",
          "data": {
            "text/plain": [
              "       T1  T2  T3  T4  T5  T6  T7  T8  T9  T10  T11  T12  T13  T14  T15  T16  \\\n",
              "0     -76 -83 -70 -66 -64 -72 -64 -69 -60  -76  -83  -78  -81  -81  -81  -70   \n",
              "1     -58 -57 -78 -81 -73 -73 -78 -78 -82  -49  -55  -58  -66  -79  -72  -83   \n",
              "2     -70 -70 -71 -69 -69 -68 -61 -55 -53  -82  -87  -76  -68  -57  -64  -75   \n",
              "3     -71 -61 -56 -56 -61 -60 -68 -66 -72  -58  -55  -56  -58  -62  -61  -59   \n",
              "4     -72 -71 -64 -69 -64 -63 -61 -42 -55  -61  -69  -67  -63  -63  -55  -49   \n",
              "...    ..  ..  ..  ..  ..  ..  ..  ..  ..  ...  ...  ...  ...  ...  ...  ...   \n",
              "15747 -64 -68 -64 -67 -66 -53 -61 -51 -44  -76  -64  -62  -68  -60  -58  -54   \n",
              "15748 -57 -46 -64 -55 -56 -54 -70 -64 -63  -51  -56  -58  -60  -61  -61  -62   \n",
              "15749 -76 -67 -69 -71 -68 -70 -57 -57 -59  -76  -85  -72  -67  -58  -66  -66   \n",
              "15750 -69 -78 -65 -65 -38 -55 -66 -66 -76  -64  -64  -66  -55  -60  -55  -64   \n",
              "15751 -74 -68 -70 -80 -66 -61 -68 -62 -49  -79  -82  -71  -68  -74  -61  -57   \n",
              "\n",
              "       T17  T18  Model_1_output  \n",
              "0      -60  -60             151  \n",
              "1      -74  -80               1  \n",
              "2      -57  -70             141  \n",
              "3      -64  -65              92  \n",
              "4      -49  -57              63  \n",
              "...    ...  ...             ...  \n",
              "15747  -48  -51              68  \n",
              "15748  -62  -64              82  \n",
              "15749  -55  -54             145  \n",
              "15750  -66  -69              31  \n",
              "15751  -52  -56              78  \n",
              "\n",
              "[15752 rows x 19 columns]"
            ],
            "text/html": [
              "\n",
              "  <div id=\"df-9e90e6e2-da15-45eb-a825-e9cbdcf4fa6d\" class=\"colab-df-container\">\n",
              "    <div>\n",
              "<style scoped>\n",
              "    .dataframe tbody tr th:only-of-type {\n",
              "        vertical-align: middle;\n",
              "    }\n",
              "\n",
              "    .dataframe tbody tr th {\n",
              "        vertical-align: top;\n",
              "    }\n",
              "\n",
              "    .dataframe thead th {\n",
              "        text-align: right;\n",
              "    }\n",
              "</style>\n",
              "<table border=\"1\" class=\"dataframe\">\n",
              "  <thead>\n",
              "    <tr style=\"text-align: right;\">\n",
              "      <th></th>\n",
              "      <th>T1</th>\n",
              "      <th>T2</th>\n",
              "      <th>T3</th>\n",
              "      <th>T4</th>\n",
              "      <th>T5</th>\n",
              "      <th>T6</th>\n",
              "      <th>T7</th>\n",
              "      <th>T8</th>\n",
              "      <th>T9</th>\n",
              "      <th>T10</th>\n",
              "      <th>T11</th>\n",
              "      <th>T12</th>\n",
              "      <th>T13</th>\n",
              "      <th>T14</th>\n",
              "      <th>T15</th>\n",
              "      <th>T16</th>\n",
              "      <th>T17</th>\n",
              "      <th>T18</th>\n",
              "      <th>Model_1_output</th>\n",
              "    </tr>\n",
              "  </thead>\n",
              "  <tbody>\n",
              "    <tr>\n",
              "      <th>0</th>\n",
              "      <td>-76</td>\n",
              "      <td>-83</td>\n",
              "      <td>-70</td>\n",
              "      <td>-66</td>\n",
              "      <td>-64</td>\n",
              "      <td>-72</td>\n",
              "      <td>-64</td>\n",
              "      <td>-69</td>\n",
              "      <td>-60</td>\n",
              "      <td>-76</td>\n",
              "      <td>-83</td>\n",
              "      <td>-78</td>\n",
              "      <td>-81</td>\n",
              "      <td>-81</td>\n",
              "      <td>-81</td>\n",
              "      <td>-70</td>\n",
              "      <td>-60</td>\n",
              "      <td>-60</td>\n",
              "      <td>151</td>\n",
              "    </tr>\n",
              "    <tr>\n",
              "      <th>1</th>\n",
              "      <td>-58</td>\n",
              "      <td>-57</td>\n",
              "      <td>-78</td>\n",
              "      <td>-81</td>\n",
              "      <td>-73</td>\n",
              "      <td>-73</td>\n",
              "      <td>-78</td>\n",
              "      <td>-78</td>\n",
              "      <td>-82</td>\n",
              "      <td>-49</td>\n",
              "      <td>-55</td>\n",
              "      <td>-58</td>\n",
              "      <td>-66</td>\n",
              "      <td>-79</td>\n",
              "      <td>-72</td>\n",
              "      <td>-83</td>\n",
              "      <td>-74</td>\n",
              "      <td>-80</td>\n",
              "      <td>1</td>\n",
              "    </tr>\n",
              "    <tr>\n",
              "      <th>2</th>\n",
              "      <td>-70</td>\n",
              "      <td>-70</td>\n",
              "      <td>-71</td>\n",
              "      <td>-69</td>\n",
              "      <td>-69</td>\n",
              "      <td>-68</td>\n",
              "      <td>-61</td>\n",
              "      <td>-55</td>\n",
              "      <td>-53</td>\n",
              "      <td>-82</td>\n",
              "      <td>-87</td>\n",
              "      <td>-76</td>\n",
              "      <td>-68</td>\n",
              "      <td>-57</td>\n",
              "      <td>-64</td>\n",
              "      <td>-75</td>\n",
              "      <td>-57</td>\n",
              "      <td>-70</td>\n",
              "      <td>141</td>\n",
              "    </tr>\n",
              "    <tr>\n",
              "      <th>3</th>\n",
              "      <td>-71</td>\n",
              "      <td>-61</td>\n",
              "      <td>-56</td>\n",
              "      <td>-56</td>\n",
              "      <td>-61</td>\n",
              "      <td>-60</td>\n",
              "      <td>-68</td>\n",
              "      <td>-66</td>\n",
              "      <td>-72</td>\n",
              "      <td>-58</td>\n",
              "      <td>-55</td>\n",
              "      <td>-56</td>\n",
              "      <td>-58</td>\n",
              "      <td>-62</td>\n",
              "      <td>-61</td>\n",
              "      <td>-59</td>\n",
              "      <td>-64</td>\n",
              "      <td>-65</td>\n",
              "      <td>92</td>\n",
              "    </tr>\n",
              "    <tr>\n",
              "      <th>4</th>\n",
              "      <td>-72</td>\n",
              "      <td>-71</td>\n",
              "      <td>-64</td>\n",
              "      <td>-69</td>\n",
              "      <td>-64</td>\n",
              "      <td>-63</td>\n",
              "      <td>-61</td>\n",
              "      <td>-42</td>\n",
              "      <td>-55</td>\n",
              "      <td>-61</td>\n",
              "      <td>-69</td>\n",
              "      <td>-67</td>\n",
              "      <td>-63</td>\n",
              "      <td>-63</td>\n",
              "      <td>-55</td>\n",
              "      <td>-49</td>\n",
              "      <td>-49</td>\n",
              "      <td>-57</td>\n",
              "      <td>63</td>\n",
              "    </tr>\n",
              "    <tr>\n",
              "      <th>...</th>\n",
              "      <td>...</td>\n",
              "      <td>...</td>\n",
              "      <td>...</td>\n",
              "      <td>...</td>\n",
              "      <td>...</td>\n",
              "      <td>...</td>\n",
              "      <td>...</td>\n",
              "      <td>...</td>\n",
              "      <td>...</td>\n",
              "      <td>...</td>\n",
              "      <td>...</td>\n",
              "      <td>...</td>\n",
              "      <td>...</td>\n",
              "      <td>...</td>\n",
              "      <td>...</td>\n",
              "      <td>...</td>\n",
              "      <td>...</td>\n",
              "      <td>...</td>\n",
              "      <td>...</td>\n",
              "    </tr>\n",
              "    <tr>\n",
              "      <th>15747</th>\n",
              "      <td>-64</td>\n",
              "      <td>-68</td>\n",
              "      <td>-64</td>\n",
              "      <td>-67</td>\n",
              "      <td>-66</td>\n",
              "      <td>-53</td>\n",
              "      <td>-61</td>\n",
              "      <td>-51</td>\n",
              "      <td>-44</td>\n",
              "      <td>-76</td>\n",
              "      <td>-64</td>\n",
              "      <td>-62</td>\n",
              "      <td>-68</td>\n",
              "      <td>-60</td>\n",
              "      <td>-58</td>\n",
              "      <td>-54</td>\n",
              "      <td>-48</td>\n",
              "      <td>-51</td>\n",
              "      <td>68</td>\n",
              "    </tr>\n",
              "    <tr>\n",
              "      <th>15748</th>\n",
              "      <td>-57</td>\n",
              "      <td>-46</td>\n",
              "      <td>-64</td>\n",
              "      <td>-55</td>\n",
              "      <td>-56</td>\n",
              "      <td>-54</td>\n",
              "      <td>-70</td>\n",
              "      <td>-64</td>\n",
              "      <td>-63</td>\n",
              "      <td>-51</td>\n",
              "      <td>-56</td>\n",
              "      <td>-58</td>\n",
              "      <td>-60</td>\n",
              "      <td>-61</td>\n",
              "      <td>-61</td>\n",
              "      <td>-62</td>\n",
              "      <td>-62</td>\n",
              "      <td>-64</td>\n",
              "      <td>82</td>\n",
              "    </tr>\n",
              "    <tr>\n",
              "      <th>15749</th>\n",
              "      <td>-76</td>\n",
              "      <td>-67</td>\n",
              "      <td>-69</td>\n",
              "      <td>-71</td>\n",
              "      <td>-68</td>\n",
              "      <td>-70</td>\n",
              "      <td>-57</td>\n",
              "      <td>-57</td>\n",
              "      <td>-59</td>\n",
              "      <td>-76</td>\n",
              "      <td>-85</td>\n",
              "      <td>-72</td>\n",
              "      <td>-67</td>\n",
              "      <td>-58</td>\n",
              "      <td>-66</td>\n",
              "      <td>-66</td>\n",
              "      <td>-55</td>\n",
              "      <td>-54</td>\n",
              "      <td>145</td>\n",
              "    </tr>\n",
              "    <tr>\n",
              "      <th>15750</th>\n",
              "      <td>-69</td>\n",
              "      <td>-78</td>\n",
              "      <td>-65</td>\n",
              "      <td>-65</td>\n",
              "      <td>-38</td>\n",
              "      <td>-55</td>\n",
              "      <td>-66</td>\n",
              "      <td>-66</td>\n",
              "      <td>-76</td>\n",
              "      <td>-64</td>\n",
              "      <td>-64</td>\n",
              "      <td>-66</td>\n",
              "      <td>-55</td>\n",
              "      <td>-60</td>\n",
              "      <td>-55</td>\n",
              "      <td>-64</td>\n",
              "      <td>-66</td>\n",
              "      <td>-69</td>\n",
              "      <td>31</td>\n",
              "    </tr>\n",
              "    <tr>\n",
              "      <th>15751</th>\n",
              "      <td>-74</td>\n",
              "      <td>-68</td>\n",
              "      <td>-70</td>\n",
              "      <td>-80</td>\n",
              "      <td>-66</td>\n",
              "      <td>-61</td>\n",
              "      <td>-68</td>\n",
              "      <td>-62</td>\n",
              "      <td>-49</td>\n",
              "      <td>-79</td>\n",
              "      <td>-82</td>\n",
              "      <td>-71</td>\n",
              "      <td>-68</td>\n",
              "      <td>-74</td>\n",
              "      <td>-61</td>\n",
              "      <td>-57</td>\n",
              "      <td>-52</td>\n",
              "      <td>-56</td>\n",
              "      <td>78</td>\n",
              "    </tr>\n",
              "  </tbody>\n",
              "</table>\n",
              "<p>15752 rows × 19 columns</p>\n",
              "</div>\n",
              "    <div class=\"colab-df-buttons\">\n",
              "\n",
              "  <div class=\"colab-df-container\">\n",
              "    <button class=\"colab-df-convert\" onclick=\"convertToInteractive('df-9e90e6e2-da15-45eb-a825-e9cbdcf4fa6d')\"\n",
              "            title=\"Convert this dataframe to an interactive table.\"\n",
              "            style=\"display:none;\">\n",
              "\n",
              "  <svg xmlns=\"http://www.w3.org/2000/svg\" height=\"24px\" viewBox=\"0 -960 960 960\">\n",
              "    <path d=\"M120-120v-720h720v720H120Zm60-500h600v-160H180v160Zm220 220h160v-160H400v160Zm0 220h160v-160H400v160ZM180-400h160v-160H180v160Zm440 0h160v-160H620v160ZM180-180h160v-160H180v160Zm440 0h160v-160H620v160Z\"/>\n",
              "  </svg>\n",
              "    </button>\n",
              "\n",
              "  <style>\n",
              "    .colab-df-container {\n",
              "      display:flex;\n",
              "      gap: 12px;\n",
              "    }\n",
              "\n",
              "    .colab-df-convert {\n",
              "      background-color: #E8F0FE;\n",
              "      border: none;\n",
              "      border-radius: 50%;\n",
              "      cursor: pointer;\n",
              "      display: none;\n",
              "      fill: #1967D2;\n",
              "      height: 32px;\n",
              "      padding: 0 0 0 0;\n",
              "      width: 32px;\n",
              "    }\n",
              "\n",
              "    .colab-df-convert:hover {\n",
              "      background-color: #E2EBFA;\n",
              "      box-shadow: 0px 1px 2px rgba(60, 64, 67, 0.3), 0px 1px 3px 1px rgba(60, 64, 67, 0.15);\n",
              "      fill: #174EA6;\n",
              "    }\n",
              "\n",
              "    .colab-df-buttons div {\n",
              "      margin-bottom: 4px;\n",
              "    }\n",
              "\n",
              "    [theme=dark] .colab-df-convert {\n",
              "      background-color: #3B4455;\n",
              "      fill: #D2E3FC;\n",
              "    }\n",
              "\n",
              "    [theme=dark] .colab-df-convert:hover {\n",
              "      background-color: #434B5C;\n",
              "      box-shadow: 0px 1px 3px 1px rgba(0, 0, 0, 0.15);\n",
              "      filter: drop-shadow(0px 1px 2px rgba(0, 0, 0, 0.3));\n",
              "      fill: #FFFFFF;\n",
              "    }\n",
              "  </style>\n",
              "\n",
              "    <script>\n",
              "      const buttonEl =\n",
              "        document.querySelector('#df-9e90e6e2-da15-45eb-a825-e9cbdcf4fa6d button.colab-df-convert');\n",
              "      buttonEl.style.display =\n",
              "        google.colab.kernel.accessAllowed ? 'block' : 'none';\n",
              "\n",
              "      async function convertToInteractive(key) {\n",
              "        const element = document.querySelector('#df-9e90e6e2-da15-45eb-a825-e9cbdcf4fa6d');\n",
              "        const dataTable =\n",
              "          await google.colab.kernel.invokeFunction('convertToInteractive',\n",
              "                                                    [key], {});\n",
              "        if (!dataTable) return;\n",
              "\n",
              "        const docLinkHtml = 'Like what you see? Visit the ' +\n",
              "          '<a target=\"_blank\" href=https://colab.research.google.com/notebooks/data_table.ipynb>data table notebook</a>'\n",
              "          + ' to learn more about interactive tables.';\n",
              "        element.innerHTML = '';\n",
              "        dataTable['output_type'] = 'display_data';\n",
              "        await google.colab.output.renderOutput(dataTable, element);\n",
              "        const docLink = document.createElement('div');\n",
              "        docLink.innerHTML = docLinkHtml;\n",
              "        element.appendChild(docLink);\n",
              "      }\n",
              "    </script>\n",
              "  </div>\n",
              "\n",
              "\n",
              "<div id=\"df-f802cecc-7c9f-4cdb-9401-6c238a99893b\">\n",
              "  <button class=\"colab-df-quickchart\" onclick=\"quickchart('df-f802cecc-7c9f-4cdb-9401-6c238a99893b')\"\n",
              "            title=\"Suggest charts\"\n",
              "            style=\"display:none;\">\n",
              "\n",
              "<svg xmlns=\"http://www.w3.org/2000/svg\" height=\"24px\"viewBox=\"0 0 24 24\"\n",
              "     width=\"24px\">\n",
              "    <g>\n",
              "        <path d=\"M19 3H5c-1.1 0-2 .9-2 2v14c0 1.1.9 2 2 2h14c1.1 0 2-.9 2-2V5c0-1.1-.9-2-2-2zM9 17H7v-7h2v7zm4 0h-2V7h2v10zm4 0h-2v-4h2v4z\"/>\n",
              "    </g>\n",
              "</svg>\n",
              "  </button>\n",
              "\n",
              "<style>\n",
              "  .colab-df-quickchart {\n",
              "      --bg-color: #E8F0FE;\n",
              "      --fill-color: #1967D2;\n",
              "      --hover-bg-color: #E2EBFA;\n",
              "      --hover-fill-color: #174EA6;\n",
              "      --disabled-fill-color: #AAA;\n",
              "      --disabled-bg-color: #DDD;\n",
              "  }\n",
              "\n",
              "  [theme=dark] .colab-df-quickchart {\n",
              "      --bg-color: #3B4455;\n",
              "      --fill-color: #D2E3FC;\n",
              "      --hover-bg-color: #434B5C;\n",
              "      --hover-fill-color: #FFFFFF;\n",
              "      --disabled-bg-color: #3B4455;\n",
              "      --disabled-fill-color: #666;\n",
              "  }\n",
              "\n",
              "  .colab-df-quickchart {\n",
              "    background-color: var(--bg-color);\n",
              "    border: none;\n",
              "    border-radius: 50%;\n",
              "    cursor: pointer;\n",
              "    display: none;\n",
              "    fill: var(--fill-color);\n",
              "    height: 32px;\n",
              "    padding: 0;\n",
              "    width: 32px;\n",
              "  }\n",
              "\n",
              "  .colab-df-quickchart:hover {\n",
              "    background-color: var(--hover-bg-color);\n",
              "    box-shadow: 0 1px 2px rgba(60, 64, 67, 0.3), 0 1px 3px 1px rgba(60, 64, 67, 0.15);\n",
              "    fill: var(--button-hover-fill-color);\n",
              "  }\n",
              "\n",
              "  .colab-df-quickchart-complete:disabled,\n",
              "  .colab-df-quickchart-complete:disabled:hover {\n",
              "    background-color: var(--disabled-bg-color);\n",
              "    fill: var(--disabled-fill-color);\n",
              "    box-shadow: none;\n",
              "  }\n",
              "\n",
              "  .colab-df-spinner {\n",
              "    border: 2px solid var(--fill-color);\n",
              "    border-color: transparent;\n",
              "    border-bottom-color: var(--fill-color);\n",
              "    animation:\n",
              "      spin 1s steps(1) infinite;\n",
              "  }\n",
              "\n",
              "  @keyframes spin {\n",
              "    0% {\n",
              "      border-color: transparent;\n",
              "      border-bottom-color: var(--fill-color);\n",
              "      border-left-color: var(--fill-color);\n",
              "    }\n",
              "    20% {\n",
              "      border-color: transparent;\n",
              "      border-left-color: var(--fill-color);\n",
              "      border-top-color: var(--fill-color);\n",
              "    }\n",
              "    30% {\n",
              "      border-color: transparent;\n",
              "      border-left-color: var(--fill-color);\n",
              "      border-top-color: var(--fill-color);\n",
              "      border-right-color: var(--fill-color);\n",
              "    }\n",
              "    40% {\n",
              "      border-color: transparent;\n",
              "      border-right-color: var(--fill-color);\n",
              "      border-top-color: var(--fill-color);\n",
              "    }\n",
              "    60% {\n",
              "      border-color: transparent;\n",
              "      border-right-color: var(--fill-color);\n",
              "    }\n",
              "    80% {\n",
              "      border-color: transparent;\n",
              "      border-right-color: var(--fill-color);\n",
              "      border-bottom-color: var(--fill-color);\n",
              "    }\n",
              "    90% {\n",
              "      border-color: transparent;\n",
              "      border-bottom-color: var(--fill-color);\n",
              "    }\n",
              "  }\n",
              "</style>\n",
              "\n",
              "  <script>\n",
              "    async function quickchart(key) {\n",
              "      const quickchartButtonEl =\n",
              "        document.querySelector('#' + key + ' button');\n",
              "      quickchartButtonEl.disabled = true;  // To prevent multiple clicks.\n",
              "      quickchartButtonEl.classList.add('colab-df-spinner');\n",
              "      try {\n",
              "        const charts = await google.colab.kernel.invokeFunction(\n",
              "            'suggestCharts', [key], {});\n",
              "      } catch (error) {\n",
              "        console.error('Error during call to suggestCharts:', error);\n",
              "      }\n",
              "      quickchartButtonEl.classList.remove('colab-df-spinner');\n",
              "      quickchartButtonEl.classList.add('colab-df-quickchart-complete');\n",
              "    }\n",
              "    (() => {\n",
              "      let quickchartButtonEl =\n",
              "        document.querySelector('#df-f802cecc-7c9f-4cdb-9401-6c238a99893b button');\n",
              "      quickchartButtonEl.style.display =\n",
              "        google.colab.kernel.accessAllowed ? 'block' : 'none';\n",
              "    })();\n",
              "  </script>\n",
              "</div>\n",
              "    </div>\n",
              "  </div>\n"
            ],
            "application/vnd.google.colaboratory.intrinsic+json": {
              "type": "dataframe",
              "variable_name": "test_data",
              "summary": "{\n  \"name\": \"test_data\",\n  \"rows\": 15752,\n  \"fields\": [\n    {\n      \"column\": \"T1\",\n      \"properties\": {\n        \"dtype\": \"number\",\n        \"std\": 8,\n        \"min\": -95,\n        \"max\": -41,\n        \"num_unique_values\": 49,\n        \"samples\": [\n          -82,\n          -86,\n          -45\n        ],\n        \"semantic_type\": \"\",\n        \"description\": \"\"\n      }\n    },\n    {\n      \"column\": \"T2\",\n      \"properties\": {\n        \"dtype\": \"number\",\n        \"std\": 9,\n        \"min\": -95,\n        \"max\": -36,\n        \"num_unique_values\": 54,\n        \"samples\": [\n          -72,\n          -95,\n          -87\n        ],\n        \"semantic_type\": \"\",\n        \"description\": \"\"\n      }\n    },\n    {\n      \"column\": \"T3\",\n      \"properties\": {\n        \"dtype\": \"number\",\n        \"std\": 8,\n        \"min\": -95,\n        \"max\": -42,\n        \"num_unique_values\": 46,\n        \"samples\": [\n          -85,\n          -75,\n          -54\n        ],\n        \"semantic_type\": \"\",\n        \"description\": \"\"\n      }\n    },\n    {\n      \"column\": \"T4\",\n      \"properties\": {\n        \"dtype\": \"number\",\n        \"std\": 8,\n        \"min\": -95,\n        \"max\": -41,\n        \"num_unique_values\": 47,\n        \"samples\": [\n          -57,\n          -83,\n          -71\n        ],\n        \"semantic_type\": \"\",\n        \"description\": \"\"\n      }\n    },\n    {\n      \"column\": \"T5\",\n      \"properties\": {\n        \"dtype\": \"number\",\n        \"std\": 8,\n        \"min\": -95,\n        \"max\": -32,\n        \"num_unique_values\": 47,\n        \"samples\": [\n          -47,\n          -46,\n          -53\n        ],\n        \"semantic_type\": \"\",\n        \"description\": \"\"\n      }\n    },\n    {\n      \"column\": \"T6\",\n      \"properties\": {\n        \"dtype\": \"number\",\n        \"std\": 8,\n        \"min\": -95,\n        \"max\": -39,\n        \"num_unique_values\": 47,\n        \"samples\": [\n          -75,\n          -82,\n          -45\n        ],\n        \"semantic_type\": \"\",\n        \"description\": \"\"\n      }\n    },\n    {\n      \"column\": \"T7\",\n      \"properties\": {\n        \"dtype\": \"number\",\n        \"std\": 9,\n        \"min\": -95,\n        \"max\": -46,\n        \"num_unique_values\": 43,\n        \"samples\": [\n          -57,\n          -52,\n          -59\n        ],\n        \"semantic_type\": \"\",\n        \"description\": \"\"\n      }\n    },\n    {\n      \"column\": \"T8\",\n      \"properties\": {\n        \"dtype\": \"number\",\n        \"std\": 10,\n        \"min\": -95,\n        \"max\": -40,\n        \"num_unique_values\": 50,\n        \"samples\": [\n          -48,\n          -81,\n          -50\n        ],\n        \"semantic_type\": \"\",\n        \"description\": \"\"\n      }\n    },\n    {\n      \"column\": \"T9\",\n      \"properties\": {\n        \"dtype\": \"number\",\n        \"std\": 10,\n        \"min\": -95,\n        \"max\": -39,\n        \"num_unique_values\": 48,\n        \"samples\": [\n          -56,\n          -95,\n          -84\n        ],\n        \"semantic_type\": \"\",\n        \"description\": \"\"\n      }\n    },\n    {\n      \"column\": \"T10\",\n      \"properties\": {\n        \"dtype\": \"number\",\n        \"std\": 10,\n        \"min\": -95,\n        \"max\": -41,\n        \"num_unique_values\": 47,\n        \"samples\": [\n          -50,\n          -44,\n          -77\n        ],\n        \"semantic_type\": \"\",\n        \"description\": \"\"\n      }\n    },\n    {\n      \"column\": \"T11\",\n      \"properties\": {\n        \"dtype\": \"number\",\n        \"std\": 9,\n        \"min\": -95,\n        \"max\": -43,\n        \"num_unique_values\": 48,\n        \"samples\": [\n          -53,\n          -51,\n          -85\n        ],\n        \"semantic_type\": \"\",\n        \"description\": \"\"\n      }\n    },\n    {\n      \"column\": \"T12\",\n      \"properties\": {\n        \"dtype\": \"number\",\n        \"std\": 8,\n        \"min\": -95,\n        \"max\": -43,\n        \"num_unique_values\": 45,\n        \"samples\": [\n          -46,\n          -80,\n          -73\n        ],\n        \"semantic_type\": \"\",\n        \"description\": \"\"\n      }\n    },\n    {\n      \"column\": \"T13\",\n      \"properties\": {\n        \"dtype\": \"number\",\n        \"std\": 8,\n        \"min\": -95,\n        \"max\": -44,\n        \"num_unique_values\": 46,\n        \"samples\": [\n          -47,\n          -76,\n          -85\n        ],\n        \"semantic_type\": \"\",\n        \"description\": \"\"\n      }\n    },\n    {\n      \"column\": \"T14\",\n      \"properties\": {\n        \"dtype\": \"number\",\n        \"std\": 9,\n        \"min\": -95,\n        \"max\": -39,\n        \"num_unique_values\": 47,\n        \"samples\": [\n          -74,\n          -78,\n          -51\n        ],\n        \"semantic_type\": \"\",\n        \"description\": \"\"\n      }\n    },\n    {\n      \"column\": \"T15\",\n      \"properties\": {\n        \"dtype\": \"number\",\n        \"std\": 9,\n        \"min\": -95,\n        \"max\": -38,\n        \"num_unique_values\": 52,\n        \"samples\": [\n          -57,\n          -48,\n          -84\n        ],\n        \"semantic_type\": \"\",\n        \"description\": \"\"\n      }\n    },\n    {\n      \"column\": \"T16\",\n      \"properties\": {\n        \"dtype\": \"number\",\n        \"std\": 10,\n        \"min\": -95,\n        \"max\": -41,\n        \"num_unique_values\": 48,\n        \"samples\": [\n          -72,\n          -80,\n          -50\n        ],\n        \"semantic_type\": \"\",\n        \"description\": \"\"\n      }\n    },\n    {\n      \"column\": \"T17\",\n      \"properties\": {\n        \"dtype\": \"number\",\n        \"std\": 10,\n        \"min\": -95,\n        \"max\": -43,\n        \"num_unique_values\": 47,\n        \"samples\": [\n          -71,\n          -47,\n          -63\n        ],\n        \"semantic_type\": \"\",\n        \"description\": \"\"\n      }\n    },\n    {\n      \"column\": \"T18\",\n      \"properties\": {\n        \"dtype\": \"number\",\n        \"std\": 10,\n        \"min\": -95,\n        \"max\": -39,\n        \"num_unique_values\": 47,\n        \"samples\": [\n          -40,\n          -44,\n          -72\n        ],\n        \"semantic_type\": \"\",\n        \"description\": \"\"\n      }\n    },\n    {\n      \"column\": \"Model_1_output\",\n      \"properties\": {\n        \"dtype\": \"number\",\n        \"std\": 47,\n        \"min\": 0,\n        \"max\": 159,\n        \"num_unique_values\": 160,\n        \"samples\": [\n          81,\n          84,\n          31\n        ],\n        \"semantic_type\": \"\",\n        \"description\": \"\"\n      }\n    }\n  ]\n}"
            }
          },
          "metadata": {},
          "execution_count": 87
        }
      ]
    },
    {
      "cell_type": "code",
      "source": [
        "\n",
        "file_name = 'Model_1_Arshan_Shaikh_test_output_resolute_AI.xlsx'\n",
        "\n",
        "test_data.to_excel(file_name)\n",
        "print('DataFrame is written to Excel File successfully.')"
      ],
      "metadata": {
        "colab": {
          "base_uri": "https://localhost:8080/"
        },
        "id": "4XQtorTiCL7T",
        "outputId": "cfc51564-68a5-4fc3-ff5b-172009b9b921"
      },
      "execution_count": null,
      "outputs": [
        {
          "output_type": "stream",
          "name": "stdout",
          "text": [
            "DataFrame is written to Excel File successfully.\n"
          ]
        }
      ]
    },
    {
      "cell_type": "markdown",
      "source": [
        "Now , for our remaining 2 well-known models -> randomforest and xgboost predicting test output ..."
      ],
      "metadata": {
        "id": "WmccfzEaX1PY"
      }
    },
    {
      "cell_type": "code",
      "source": [
        "y_out_RFC=clf.predict(X_test_data)"
      ],
      "metadata": {
        "id": "-xy_Od1dFOgB"
      },
      "execution_count": null,
      "outputs": []
    },
    {
      "cell_type": "code",
      "source": [
        "# RandomForest\n",
        "y_out_RFC\n"
      ],
      "metadata": {
        "colab": {
          "base_uri": "https://localhost:8080/"
        },
        "id": "nwCjLr7_Cy5_",
        "outputId": "6008a95f-61b5-417f-9d67-d0bdfbeae34d"
      },
      "execution_count": null,
      "outputs": [
        {
          "output_type": "execute_result",
          "data": {
            "text/plain": [
              "array([151,   1, 141, ..., 145,  31,  78])"
            ]
          },
          "metadata": {},
          "execution_count": 109
        }
      ]
    },
    {
      "cell_type": "code",
      "source": [
        "y_RFC = pd.DataFrame(y_out_RFC)\n",
        "test_data['Random_forest_output'] = y_RFC\n",
        "file_name = 'Random_Forest_Arshan_Shaikh_test_output_resolute_AI.xlsx'\n",
        "\n",
        "test_data.to_excel(file_name)\n",
        "print('DataFrame is written to Excel File successfully.')"
      ],
      "metadata": {
        "colab": {
          "base_uri": "https://localhost:8080/"
        },
        "id": "TBECxcvlDwJn",
        "outputId": "ecd708d1-8851-4d42-d3f0-a580eaa9d540"
      },
      "execution_count": null,
      "outputs": [
        {
          "output_type": "stream",
          "name": "stdout",
          "text": [
            "DataFrame is written to Excel File successfully.\n"
          ]
        }
      ]
    },
    {
      "cell_type": "code",
      "source": [
        "y_out_xg = xgb_classifier.predict(X_test_data)"
      ],
      "metadata": {
        "id": "CKPkae22GXQQ"
      },
      "execution_count": null,
      "outputs": []
    },
    {
      "cell_type": "code",
      "source": [
        "# XgBoost\n",
        "y_out_xg"
      ],
      "metadata": {
        "colab": {
          "base_uri": "https://localhost:8080/"
        },
        "id": "3YKhpZPTEJ0T",
        "outputId": "687cfee1-c2be-4b7b-f99b-3ce5b9a24fcf"
      },
      "execution_count": null,
      "outputs": [
        {
          "output_type": "execute_result",
          "data": {
            "text/plain": [
              "array([151,   1, 141, ..., 145,  31,  78], dtype=int32)"
            ]
          },
          "metadata": {},
          "execution_count": 104
        }
      ]
    },
    {
      "cell_type": "code",
      "source": [
        "y_xg = pd.DataFrame(y_out_xg)\n",
        "test_data['XG_boost_output'] = y_xg\n",
        "file_name = 'XG_boost_Arshan_Shaikh_test_output_resolute_AI.xlsx'\n",
        "\n",
        "test_data.to_excel(file_name)\n",
        "print('DataFrame is written to Excel File successfully.')"
      ],
      "metadata": {
        "colab": {
          "base_uri": "https://localhost:8080/"
        },
        "id": "UJI9JGuaEXpt",
        "outputId": "ab448db7-bde8-444c-dc1d-502a7b05085e"
      },
      "execution_count": null,
      "outputs": [
        {
          "output_type": "stream",
          "name": "stdout",
          "text": [
            "DataFrame is written to Excel File successfully.\n"
          ]
        }
      ]
    },
    {
      "cell_type": "markdown",
      "source": [
        "**Thus, Complete Analysis and prediction of dataset was done using Pytorch and other python libraries :)**"
      ],
      "metadata": {
        "id": "fCQV9M4eYIFR"
      }
    }
  ]
}